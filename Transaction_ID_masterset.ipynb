{
 "cells": [
  {
   "cell_type": "code",
   "execution_count": 2,
   "id": "authorized-secretariat",
   "metadata": {},
   "outputs": [],
   "source": [
    "import pandas as pd\n",
    "import numpy as np\n",
    "import seaborn as sns\n",
    "import matplotlib.pyplot as plt"
   ]
  },
  {
   "cell_type": "code",
   "execution_count": null,
   "id": "cognitive-webmaster",
   "metadata": {},
   "outputs": [],
   "source": []
  },
  {
   "cell_type": "code",
   "execution_count": 3,
   "id": "following-crystal",
   "metadata": {},
   "outputs": [],
   "source": [
    "df1 = pd.read_csv(\"C:/Users/user/OneDrive/Desktop/Career/Data Glacier VI/VC-1/DataSets/Transaction_ID.csv\")\n",
    "df2 = pd.read_csv(\"C:/Users/user/OneDrive/Desktop/Career/Data Glacier VI/VC-1/DataSets/Cab_Data.csv\")\n",
    "df2['Date of Travel'] = pd.to_datetime(df2['Date of Travel'], infer_datetime_format=True)"
   ]
  },
  {
   "cell_type": "code",
   "execution_count": 4,
   "id": "italic-threat",
   "metadata": {},
   "outputs": [
    {
     "data": {
      "text/html": [
       "<div>\n",
       "<style scoped>\n",
       "    .dataframe tbody tr th:only-of-type {\n",
       "        vertical-align: middle;\n",
       "    }\n",
       "\n",
       "    .dataframe tbody tr th {\n",
       "        vertical-align: top;\n",
       "    }\n",
       "\n",
       "    .dataframe thead th {\n",
       "        text-align: right;\n",
       "    }\n",
       "</style>\n",
       "<table border=\"1\" class=\"dataframe\">\n",
       "  <thead>\n",
       "    <tr style=\"text-align: right;\">\n",
       "      <th></th>\n",
       "      <th>Transaction ID</th>\n",
       "      <th>Customer ID</th>\n",
       "      <th>Payment_Mode</th>\n",
       "    </tr>\n",
       "  </thead>\n",
       "  <tbody>\n",
       "    <tr>\n",
       "      <th>0</th>\n",
       "      <td>10000011</td>\n",
       "      <td>29290</td>\n",
       "      <td>Card</td>\n",
       "    </tr>\n",
       "    <tr>\n",
       "      <th>1</th>\n",
       "      <td>10000012</td>\n",
       "      <td>27703</td>\n",
       "      <td>Card</td>\n",
       "    </tr>\n",
       "    <tr>\n",
       "      <th>2</th>\n",
       "      <td>10000013</td>\n",
       "      <td>28712</td>\n",
       "      <td>Cash</td>\n",
       "    </tr>\n",
       "    <tr>\n",
       "      <th>3</th>\n",
       "      <td>10000014</td>\n",
       "      <td>28020</td>\n",
       "      <td>Cash</td>\n",
       "    </tr>\n",
       "    <tr>\n",
       "      <th>4</th>\n",
       "      <td>10000015</td>\n",
       "      <td>27182</td>\n",
       "      <td>Card</td>\n",
       "    </tr>\n",
       "  </tbody>\n",
       "</table>\n",
       "</div>"
      ],
      "text/plain": [
       "   Transaction ID  Customer ID Payment_Mode\n",
       "0        10000011        29290         Card\n",
       "1        10000012        27703         Card\n",
       "2        10000013        28712         Cash\n",
       "3        10000014        28020         Cash\n",
       "4        10000015        27182         Card"
      ]
     },
     "execution_count": 4,
     "metadata": {},
     "output_type": "execute_result"
    }
   ],
   "source": [
    "df1.head()"
   ]
  },
  {
   "cell_type": "code",
   "execution_count": 5,
   "id": "prostate-positive",
   "metadata": {},
   "outputs": [],
   "source": [
    "#create new  columns from Date of Travel\n",
    "df2['Day'] = df2['Date of Travel'].dt.day\n",
    "df2['Month'] = df2['Date of Travel'].dt.month\n",
    "df2['Year'] = df2['Date of Travel'].dt.year"
   ]
  },
  {
   "cell_type": "code",
   "execution_count": 6,
   "id": "coordinate-fleece",
   "metadata": {},
   "outputs": [
    {
     "data": {
      "text/html": [
       "<div>\n",
       "<style scoped>\n",
       "    .dataframe tbody tr th:only-of-type {\n",
       "        vertical-align: middle;\n",
       "    }\n",
       "\n",
       "    .dataframe tbody tr th {\n",
       "        vertical-align: top;\n",
       "    }\n",
       "\n",
       "    .dataframe thead th {\n",
       "        text-align: right;\n",
       "    }\n",
       "</style>\n",
       "<table border=\"1\" class=\"dataframe\">\n",
       "  <thead>\n",
       "    <tr style=\"text-align: right;\">\n",
       "      <th></th>\n",
       "      <th>Transaction ID</th>\n",
       "      <th>Date of Travel</th>\n",
       "      <th>Company</th>\n",
       "      <th>City</th>\n",
       "      <th>KM Travelled</th>\n",
       "      <th>Price Charged</th>\n",
       "      <th>Cost of Trip</th>\n",
       "      <th>Day</th>\n",
       "      <th>Month</th>\n",
       "      <th>Year</th>\n",
       "    </tr>\n",
       "  </thead>\n",
       "  <tbody>\n",
       "    <tr>\n",
       "      <th>0</th>\n",
       "      <td>10000011</td>\n",
       "      <td>2016-08-01</td>\n",
       "      <td>Pink Cab</td>\n",
       "      <td>ATLANTA GA</td>\n",
       "      <td>30.45</td>\n",
       "      <td>370.95</td>\n",
       "      <td>313.635</td>\n",
       "      <td>1</td>\n",
       "      <td>8</td>\n",
       "      <td>2016</td>\n",
       "    </tr>\n",
       "    <tr>\n",
       "      <th>1</th>\n",
       "      <td>10000012</td>\n",
       "      <td>2016-06-01</td>\n",
       "      <td>Pink Cab</td>\n",
       "      <td>ATLANTA GA</td>\n",
       "      <td>28.62</td>\n",
       "      <td>358.52</td>\n",
       "      <td>334.854</td>\n",
       "      <td>1</td>\n",
       "      <td>6</td>\n",
       "      <td>2016</td>\n",
       "    </tr>\n",
       "    <tr>\n",
       "      <th>2</th>\n",
       "      <td>10000013</td>\n",
       "      <td>2016-02-01</td>\n",
       "      <td>Pink Cab</td>\n",
       "      <td>ATLANTA GA</td>\n",
       "      <td>9.04</td>\n",
       "      <td>125.20</td>\n",
       "      <td>97.632</td>\n",
       "      <td>1</td>\n",
       "      <td>2</td>\n",
       "      <td>2016</td>\n",
       "    </tr>\n",
       "    <tr>\n",
       "      <th>3</th>\n",
       "      <td>10000014</td>\n",
       "      <td>2016-07-01</td>\n",
       "      <td>Pink Cab</td>\n",
       "      <td>ATLANTA GA</td>\n",
       "      <td>33.17</td>\n",
       "      <td>377.40</td>\n",
       "      <td>351.602</td>\n",
       "      <td>1</td>\n",
       "      <td>7</td>\n",
       "      <td>2016</td>\n",
       "    </tr>\n",
       "    <tr>\n",
       "      <th>4</th>\n",
       "      <td>10000015</td>\n",
       "      <td>2016-03-01</td>\n",
       "      <td>Pink Cab</td>\n",
       "      <td>ATLANTA GA</td>\n",
       "      <td>8.73</td>\n",
       "      <td>114.62</td>\n",
       "      <td>97.776</td>\n",
       "      <td>1</td>\n",
       "      <td>3</td>\n",
       "      <td>2016</td>\n",
       "    </tr>\n",
       "  </tbody>\n",
       "</table>\n",
       "</div>"
      ],
      "text/plain": [
       "   Transaction ID Date of Travel   Company        City  KM Travelled  \\\n",
       "0        10000011     2016-08-01  Pink Cab  ATLANTA GA         30.45   \n",
       "1        10000012     2016-06-01  Pink Cab  ATLANTA GA         28.62   \n",
       "2        10000013     2016-02-01  Pink Cab  ATLANTA GA          9.04   \n",
       "3        10000014     2016-07-01  Pink Cab  ATLANTA GA         33.17   \n",
       "4        10000015     2016-03-01  Pink Cab  ATLANTA GA          8.73   \n",
       "\n",
       "   Price Charged  Cost of Trip  Day  Month  Year  \n",
       "0         370.95       313.635    1      8  2016  \n",
       "1         358.52       334.854    1      6  2016  \n",
       "2         125.20        97.632    1      2  2016  \n",
       "3         377.40       351.602    1      7  2016  \n",
       "4         114.62        97.776    1      3  2016  "
      ]
     },
     "execution_count": 6,
     "metadata": {},
     "output_type": "execute_result"
    }
   ],
   "source": [
    "df2.head()"
   ]
  },
  {
   "cell_type": "code",
   "execution_count": 7,
   "id": "informational-mumbai",
   "metadata": {},
   "outputs": [
    {
     "name": "stdout",
     "output_type": "stream",
     "text": [
      "This dataset has 440098 rows and 3 columns.\n"
     ]
    }
   ],
   "source": [
    "df1.shape\n",
    "print(f'This dataset has {df1.shape[0]} rows and {df1.shape[1]} columns.')"
   ]
  },
  {
   "cell_type": "code",
   "execution_count": 8,
   "id": "dressed-villa",
   "metadata": {},
   "outputs": [
    {
     "data": {
      "text/plain": [
       "Transaction ID     int64\n",
       "Customer ID        int64\n",
       "Payment_Mode      object\n",
       "dtype: object"
      ]
     },
     "execution_count": 8,
     "metadata": {},
     "output_type": "execute_result"
    }
   ],
   "source": [
    "df1.columns\n",
    "df1.dtypes"
   ]
  },
  {
   "cell_type": "code",
   "execution_count": 9,
   "id": "excessive-division",
   "metadata": {},
   "outputs": [
    {
     "data": {
      "text/plain": [
       "Transaction ID             int64\n",
       "Date of Travel    datetime64[ns]\n",
       "Company                   object\n",
       "City                      object\n",
       "KM Travelled             float64\n",
       "Price Charged            float64\n",
       "Cost of Trip             float64\n",
       "Day                        int64\n",
       "Month                      int64\n",
       "Year                       int64\n",
       "dtype: object"
      ]
     },
     "execution_count": 9,
     "metadata": {},
     "output_type": "execute_result"
    }
   ],
   "source": [
    "df2.columns\n",
    "df2.dtypes"
   ]
  },
  {
   "cell_type": "code",
   "execution_count": 10,
   "id": "smaller-radio",
   "metadata": {},
   "outputs": [
    {
     "data": {
      "text/plain": [
       "Transaction ID    0\n",
       "Customer ID       0\n",
       "Payment_Mode      0\n",
       "dtype: int64"
      ]
     },
     "execution_count": 10,
     "metadata": {},
     "output_type": "execute_result"
    }
   ],
   "source": [
    "df1.isnull().sum()"
   ]
  },
  {
   "cell_type": "code",
   "execution_count": 11,
   "id": "imposed-campus",
   "metadata": {},
   "outputs": [
    {
     "name": "stdout",
     "output_type": "stream",
     "text": [
      "Total Number of Trips: 359392\n"
     ]
    }
   ],
   "source": [
    "print(\"Total Number of Trips:\", df2.shape[0])"
   ]
  },
  {
   "cell_type": "code",
   "execution_count": 12,
   "id": "circular-mauritius",
   "metadata": {},
   "outputs": [
    {
     "data": {
      "text/html": [
       "<div>\n",
       "<style scoped>\n",
       "    .dataframe tbody tr th:only-of-type {\n",
       "        vertical-align: middle;\n",
       "    }\n",
       "\n",
       "    .dataframe tbody tr th {\n",
       "        vertical-align: top;\n",
       "    }\n",
       "\n",
       "    .dataframe thead th {\n",
       "        text-align: right;\n",
       "    }\n",
       "</style>\n",
       "<table border=\"1\" class=\"dataframe\">\n",
       "  <thead>\n",
       "    <tr style=\"text-align: right;\">\n",
       "      <th></th>\n",
       "      <th>Transaction_ID</th>\n",
       "      <th>Customer_ID</th>\n",
       "      <th>Payment_Mode</th>\n",
       "      <th>Travel_Date</th>\n",
       "      <th>Company</th>\n",
       "      <th>City</th>\n",
       "      <th>KM_Travelled</th>\n",
       "      <th>Revenue</th>\n",
       "      <th>Trip_Cost</th>\n",
       "      <th>Day</th>\n",
       "      <th>Month</th>\n",
       "      <th>Year</th>\n",
       "    </tr>\n",
       "  </thead>\n",
       "  <tbody>\n",
       "    <tr>\n",
       "      <th>0</th>\n",
       "      <td>10000011</td>\n",
       "      <td>29290</td>\n",
       "      <td>Card</td>\n",
       "      <td>2016-08-01</td>\n",
       "      <td>Pink Cab</td>\n",
       "      <td>ATLANTA GA</td>\n",
       "      <td>30.45</td>\n",
       "      <td>370.95</td>\n",
       "      <td>313.6350</td>\n",
       "      <td>1</td>\n",
       "      <td>8</td>\n",
       "      <td>2016</td>\n",
       "    </tr>\n",
       "    <tr>\n",
       "      <th>1</th>\n",
       "      <td>10000012</td>\n",
       "      <td>27703</td>\n",
       "      <td>Card</td>\n",
       "      <td>2016-06-01</td>\n",
       "      <td>Pink Cab</td>\n",
       "      <td>ATLANTA GA</td>\n",
       "      <td>28.62</td>\n",
       "      <td>358.52</td>\n",
       "      <td>334.8540</td>\n",
       "      <td>1</td>\n",
       "      <td>6</td>\n",
       "      <td>2016</td>\n",
       "    </tr>\n",
       "    <tr>\n",
       "      <th>2</th>\n",
       "      <td>10000013</td>\n",
       "      <td>28712</td>\n",
       "      <td>Cash</td>\n",
       "      <td>2016-02-01</td>\n",
       "      <td>Pink Cab</td>\n",
       "      <td>ATLANTA GA</td>\n",
       "      <td>9.04</td>\n",
       "      <td>125.20</td>\n",
       "      <td>97.6320</td>\n",
       "      <td>1</td>\n",
       "      <td>2</td>\n",
       "      <td>2016</td>\n",
       "    </tr>\n",
       "    <tr>\n",
       "      <th>3</th>\n",
       "      <td>10000014</td>\n",
       "      <td>28020</td>\n",
       "      <td>Cash</td>\n",
       "      <td>2016-07-01</td>\n",
       "      <td>Pink Cab</td>\n",
       "      <td>ATLANTA GA</td>\n",
       "      <td>33.17</td>\n",
       "      <td>377.40</td>\n",
       "      <td>351.6020</td>\n",
       "      <td>1</td>\n",
       "      <td>7</td>\n",
       "      <td>2016</td>\n",
       "    </tr>\n",
       "    <tr>\n",
       "      <th>4</th>\n",
       "      <td>10000015</td>\n",
       "      <td>27182</td>\n",
       "      <td>Card</td>\n",
       "      <td>2016-03-01</td>\n",
       "      <td>Pink Cab</td>\n",
       "      <td>ATLANTA GA</td>\n",
       "      <td>8.73</td>\n",
       "      <td>114.62</td>\n",
       "      <td>97.7760</td>\n",
       "      <td>1</td>\n",
       "      <td>3</td>\n",
       "      <td>2016</td>\n",
       "    </tr>\n",
       "    <tr>\n",
       "      <th>...</th>\n",
       "      <td>...</td>\n",
       "      <td>...</td>\n",
       "      <td>...</td>\n",
       "      <td>...</td>\n",
       "      <td>...</td>\n",
       "      <td>...</td>\n",
       "      <td>...</td>\n",
       "      <td>...</td>\n",
       "      <td>...</td>\n",
       "      <td>...</td>\n",
       "      <td>...</td>\n",
       "      <td>...</td>\n",
       "    </tr>\n",
       "    <tr>\n",
       "      <th>359387</th>\n",
       "      <td>10440101</td>\n",
       "      <td>52392</td>\n",
       "      <td>Cash</td>\n",
       "      <td>2018-08-01</td>\n",
       "      <td>Yellow Cab</td>\n",
       "      <td>WASHINGTON DC</td>\n",
       "      <td>4.80</td>\n",
       "      <td>69.24</td>\n",
       "      <td>63.3600</td>\n",
       "      <td>1</td>\n",
       "      <td>8</td>\n",
       "      <td>2018</td>\n",
       "    </tr>\n",
       "    <tr>\n",
       "      <th>359388</th>\n",
       "      <td>10440104</td>\n",
       "      <td>53286</td>\n",
       "      <td>Cash</td>\n",
       "      <td>2018-04-01</td>\n",
       "      <td>Yellow Cab</td>\n",
       "      <td>WASHINGTON DC</td>\n",
       "      <td>8.40</td>\n",
       "      <td>113.75</td>\n",
       "      <td>106.8480</td>\n",
       "      <td>1</td>\n",
       "      <td>4</td>\n",
       "      <td>2018</td>\n",
       "    </tr>\n",
       "    <tr>\n",
       "      <th>359389</th>\n",
       "      <td>10440105</td>\n",
       "      <td>52265</td>\n",
       "      <td>Cash</td>\n",
       "      <td>2018-05-01</td>\n",
       "      <td>Yellow Cab</td>\n",
       "      <td>WASHINGTON DC</td>\n",
       "      <td>27.75</td>\n",
       "      <td>437.07</td>\n",
       "      <td>349.6500</td>\n",
       "      <td>1</td>\n",
       "      <td>5</td>\n",
       "      <td>2018</td>\n",
       "    </tr>\n",
       "    <tr>\n",
       "      <th>359390</th>\n",
       "      <td>10440106</td>\n",
       "      <td>52175</td>\n",
       "      <td>Card</td>\n",
       "      <td>2018-05-01</td>\n",
       "      <td>Yellow Cab</td>\n",
       "      <td>WASHINGTON DC</td>\n",
       "      <td>8.80</td>\n",
       "      <td>146.19</td>\n",
       "      <td>114.0480</td>\n",
       "      <td>1</td>\n",
       "      <td>5</td>\n",
       "      <td>2018</td>\n",
       "    </tr>\n",
       "    <tr>\n",
       "      <th>359391</th>\n",
       "      <td>10440107</td>\n",
       "      <td>52917</td>\n",
       "      <td>Card</td>\n",
       "      <td>2018-02-01</td>\n",
       "      <td>Yellow Cab</td>\n",
       "      <td>WASHINGTON DC</td>\n",
       "      <td>12.76</td>\n",
       "      <td>191.58</td>\n",
       "      <td>177.6192</td>\n",
       "      <td>1</td>\n",
       "      <td>2</td>\n",
       "      <td>2018</td>\n",
       "    </tr>\n",
       "  </tbody>\n",
       "</table>\n",
       "<p>359392 rows × 12 columns</p>\n",
       "</div>"
      ],
      "text/plain": [
       "        Transaction_ID  Customer_ID Payment_Mode Travel_Date     Company  \\\n",
       "0             10000011        29290         Card  2016-08-01    Pink Cab   \n",
       "1             10000012        27703         Card  2016-06-01    Pink Cab   \n",
       "2             10000013        28712         Cash  2016-02-01    Pink Cab   \n",
       "3             10000014        28020         Cash  2016-07-01    Pink Cab   \n",
       "4             10000015        27182         Card  2016-03-01    Pink Cab   \n",
       "...                ...          ...          ...         ...         ...   \n",
       "359387        10440101        52392         Cash  2018-08-01  Yellow Cab   \n",
       "359388        10440104        53286         Cash  2018-04-01  Yellow Cab   \n",
       "359389        10440105        52265         Cash  2018-05-01  Yellow Cab   \n",
       "359390        10440106        52175         Card  2018-05-01  Yellow Cab   \n",
       "359391        10440107        52917         Card  2018-02-01  Yellow Cab   \n",
       "\n",
       "                 City  KM_Travelled  Revenue  Trip_Cost  Day  Month  Year  \n",
       "0          ATLANTA GA         30.45   370.95   313.6350    1      8  2016  \n",
       "1          ATLANTA GA         28.62   358.52   334.8540    1      6  2016  \n",
       "2          ATLANTA GA          9.04   125.20    97.6320    1      2  2016  \n",
       "3          ATLANTA GA         33.17   377.40   351.6020    1      7  2016  \n",
       "4          ATLANTA GA          8.73   114.62    97.7760    1      3  2016  \n",
       "...               ...           ...      ...        ...  ...    ...   ...  \n",
       "359387  WASHINGTON DC          4.80    69.24    63.3600    1      8  2018  \n",
       "359388  WASHINGTON DC          8.40   113.75   106.8480    1      4  2018  \n",
       "359389  WASHINGTON DC         27.75   437.07   349.6500    1      5  2018  \n",
       "359390  WASHINGTON DC          8.80   146.19   114.0480    1      5  2018  \n",
       "359391  WASHINGTON DC         12.76   191.58   177.6192    1      2  2018  \n",
       "\n",
       "[359392 rows x 12 columns]"
      ]
     },
     "execution_count": 12,
     "metadata": {},
     "output_type": "execute_result"
    }
   ],
   "source": [
    "inner = pd.merge(df1, df2, on='Transaction ID')\n",
    "inner.rename(columns={\"Transaction ID\": \"Transaction_ID\", \"Customer ID\": \"Customer_ID\", \"Date of Travel\": \"Travel_Date\", \"KM Travelled\": \"KM_Travelled\", \"Price Charged\": \"Revenue\", \"Cost of Trip\": \"Trip_Cost\"})"
   ]
  },
  {
   "cell_type": "code",
   "execution_count": 13,
   "id": "rubber-values",
   "metadata": {},
   "outputs": [
    {
     "data": {
      "text/html": [
       "<div>\n",
       "<style scoped>\n",
       "    .dataframe tbody tr th:only-of-type {\n",
       "        vertical-align: middle;\n",
       "    }\n",
       "\n",
       "    .dataframe tbody tr th {\n",
       "        vertical-align: top;\n",
       "    }\n",
       "\n",
       "    .dataframe thead th {\n",
       "        text-align: right;\n",
       "    }\n",
       "</style>\n",
       "<table border=\"1\" class=\"dataframe\">\n",
       "  <thead>\n",
       "    <tr style=\"text-align: right;\">\n",
       "      <th></th>\n",
       "      <th>Transaction ID</th>\n",
       "      <th>Customer ID</th>\n",
       "      <th>KM Travelled</th>\n",
       "      <th>Price Charged</th>\n",
       "      <th>Cost of Trip</th>\n",
       "      <th>Day</th>\n",
       "      <th>Month</th>\n",
       "      <th>Year</th>\n",
       "    </tr>\n",
       "  </thead>\n",
       "  <tbody>\n",
       "    <tr>\n",
       "      <th>count</th>\n",
       "      <td>3.593920e+05</td>\n",
       "      <td>359392.000000</td>\n",
       "      <td>359392.000000</td>\n",
       "      <td>359392.000000</td>\n",
       "      <td>359392.000000</td>\n",
       "      <td>359392.000000</td>\n",
       "      <td>359392.000000</td>\n",
       "      <td>359392.000000</td>\n",
       "    </tr>\n",
       "    <tr>\n",
       "      <th>mean</th>\n",
       "      <td>1.022076e+07</td>\n",
       "      <td>19191.652115</td>\n",
       "      <td>22.567254</td>\n",
       "      <td>423.443311</td>\n",
       "      <td>286.190113</td>\n",
       "      <td>15.972835</td>\n",
       "      <td>7.156047</td>\n",
       "      <td>2017.045199</td>\n",
       "    </tr>\n",
       "    <tr>\n",
       "      <th>std</th>\n",
       "      <td>1.268058e+05</td>\n",
       "      <td>21012.412463</td>\n",
       "      <td>12.233526</td>\n",
       "      <td>274.378911</td>\n",
       "      <td>157.993661</td>\n",
       "      <td>8.503010</td>\n",
       "      <td>3.413283</td>\n",
       "      <td>0.800239</td>\n",
       "    </tr>\n",
       "    <tr>\n",
       "      <th>min</th>\n",
       "      <td>1.000001e+07</td>\n",
       "      <td>1.000000</td>\n",
       "      <td>1.900000</td>\n",
       "      <td>15.600000</td>\n",
       "      <td>19.000000</td>\n",
       "      <td>1.000000</td>\n",
       "      <td>1.000000</td>\n",
       "      <td>2016.000000</td>\n",
       "    </tr>\n",
       "    <tr>\n",
       "      <th>25%</th>\n",
       "      <td>1.011081e+07</td>\n",
       "      <td>2705.000000</td>\n",
       "      <td>12.000000</td>\n",
       "      <td>206.437500</td>\n",
       "      <td>151.200000</td>\n",
       "      <td>9.000000</td>\n",
       "      <td>4.000000</td>\n",
       "      <td>2016.000000</td>\n",
       "    </tr>\n",
       "    <tr>\n",
       "      <th>50%</th>\n",
       "      <td>1.022104e+07</td>\n",
       "      <td>7459.000000</td>\n",
       "      <td>22.440000</td>\n",
       "      <td>386.360000</td>\n",
       "      <td>282.480000</td>\n",
       "      <td>16.000000</td>\n",
       "      <td>8.000000</td>\n",
       "      <td>2017.000000</td>\n",
       "    </tr>\n",
       "    <tr>\n",
       "      <th>75%</th>\n",
       "      <td>1.033094e+07</td>\n",
       "      <td>36078.000000</td>\n",
       "      <td>32.960000</td>\n",
       "      <td>583.660000</td>\n",
       "      <td>413.683200</td>\n",
       "      <td>23.000000</td>\n",
       "      <td>10.000000</td>\n",
       "      <td>2018.000000</td>\n",
       "    </tr>\n",
       "    <tr>\n",
       "      <th>max</th>\n",
       "      <td>1.044011e+07</td>\n",
       "      <td>60000.000000</td>\n",
       "      <td>48.000000</td>\n",
       "      <td>2048.030000</td>\n",
       "      <td>691.200000</td>\n",
       "      <td>31.000000</td>\n",
       "      <td>12.000000</td>\n",
       "      <td>2018.000000</td>\n",
       "    </tr>\n",
       "  </tbody>\n",
       "</table>\n",
       "</div>"
      ],
      "text/plain": [
       "       Transaction ID    Customer ID   KM Travelled  Price Charged  \\\n",
       "count    3.593920e+05  359392.000000  359392.000000  359392.000000   \n",
       "mean     1.022076e+07   19191.652115      22.567254     423.443311   \n",
       "std      1.268058e+05   21012.412463      12.233526     274.378911   \n",
       "min      1.000001e+07       1.000000       1.900000      15.600000   \n",
       "25%      1.011081e+07    2705.000000      12.000000     206.437500   \n",
       "50%      1.022104e+07    7459.000000      22.440000     386.360000   \n",
       "75%      1.033094e+07   36078.000000      32.960000     583.660000   \n",
       "max      1.044011e+07   60000.000000      48.000000    2048.030000   \n",
       "\n",
       "        Cost of Trip            Day          Month           Year  \n",
       "count  359392.000000  359392.000000  359392.000000  359392.000000  \n",
       "mean      286.190113      15.972835       7.156047    2017.045199  \n",
       "std       157.993661       8.503010       3.413283       0.800239  \n",
       "min        19.000000       1.000000       1.000000    2016.000000  \n",
       "25%       151.200000       9.000000       4.000000    2016.000000  \n",
       "50%       282.480000      16.000000       8.000000    2017.000000  \n",
       "75%       413.683200      23.000000      10.000000    2018.000000  \n",
       "max       691.200000      31.000000      12.000000    2018.000000  "
      ]
     },
     "execution_count": 13,
     "metadata": {},
     "output_type": "execute_result"
    }
   ],
   "source": [
    "inner.describe()"
   ]
  },
  {
   "cell_type": "code",
   "execution_count": 14,
   "id": "dress-adolescent",
   "metadata": {},
   "outputs": [
    {
     "data": {
      "text/plain": [
       "False"
      ]
     },
     "execution_count": 14,
     "metadata": {},
     "output_type": "execute_result"
    }
   ],
   "source": [
    "# Check for missing values\n",
    "inner.isnull().values.any()"
   ]
  },
  {
   "cell_type": "code",
   "execution_count": 67,
   "id": "undefined-abuse",
   "metadata": {},
   "outputs": [
    {
     "data": {
      "text/plain": [
       "Year  Company   \n",
       "2016  Pink Cab      1623.48\n",
       "      Yellow Cab    1978.79\n",
       "2017  Pink Cab      1517.15\n",
       "      Yellow Cab    2048.03\n",
       "2018  Pink Cab      1332.98\n",
       "      Yellow Cab    1993.83\n",
       "Name: Price Charged, dtype: float64"
      ]
     },
     "execution_count": 67,
     "metadata": {},
     "output_type": "execute_result"
    }
   ],
   "source": [
    "inner.groupby([\"Year\", \"Company\"])[\"Price Charged\"].max()"
   ]
  },
  {
   "cell_type": "code",
   "execution_count": 69,
   "id": "absolute-banana",
   "metadata": {},
   "outputs": [
    {
     "name": "stdout",
     "output_type": "stream",
     "text": [
      "Yellow Cab recorded significantly higher earnings than Pink Cab for three consecutive years\n"
     ]
    }
   ],
   "source": [
    "print('Yellow Cab recorded significantly higher earnings than Pink Cab for three consecutive years')"
   ]
  },
  {
   "cell_type": "code",
   "execution_count": 70,
   "id": "innovative-heath",
   "metadata": {},
   "outputs": [
    {
     "data": {
      "text/plain": [
       "Month  Day  Company   \n",
       "1      1    Pink Cab      358.25\n",
       "            Yellow Cab    454.82\n",
       "       2    Pink Cab      243.55\n",
       "            Yellow Cab    408.72\n",
       "       3    Pink Cab      286.23\n",
       "                           ...  \n",
       "12     29   Yellow Cab    447.74\n",
       "       30   Pink Cab      341.49\n",
       "            Yellow Cab    398.09\n",
       "       31   Pink Cab      360.23\n",
       "            Yellow Cab    431.64\n",
       "Name: Price Charged, Length: 732, dtype: float64"
      ]
     },
     "execution_count": 70,
     "metadata": {},
     "output_type": "execute_result"
    }
   ],
   "source": [
    "inner.groupby([\"Month\", \"Day\", \"Company\"])[\"Price Charged\"].median()"
   ]
  },
  {
   "cell_type": "code",
   "execution_count": null,
   "id": "concerned-syndicate",
   "metadata": {},
   "outputs": [],
   "source": []
  },
  {
   "cell_type": "code",
   "execution_count": 17,
   "id": "naval-jimmy",
   "metadata": {},
   "outputs": [
    {
     "data": {
      "image/png": "[encoded data removed]",
      "text/plain": [
       "<Figure size 432x288 with 1 Axes>"
      ]
     },
     "metadata": {
      "needs_background": "light"
     },
     "output_type": "display_data"
    }
   ],
   "source": [
    "revenue_per_year = inner.pivot_table(index='Year', columns='Company', values='Price Charged', aggfunc=len)\n",
    "revenue_per_year = revenue_per_year.divide(revenue_per_year.sum(axis=1), axis=0)\n",
    "ax = revenue_per_year.plot(kind='bar', stacked='true')\n",
    "ax.legend(loc='upper right')\n",
    "ax.set_ylim(0, 1)\n",
    "plt.show()"
   ]
  },
  {
   "cell_type": "code",
   "execution_count": 71,
   "id": "blessed-mayor",
   "metadata": {},
   "outputs": [
    {
     "name": "stdout",
     "output_type": "stream",
     "text": [
      "Yearly earnings per company\n"
     ]
    }
   ],
   "source": [
    "print('Yearly earnings per company')"
   ]
  },
  {
   "cell_type": "code",
   "execution_count": 18,
   "id": "anticipated-worth",
   "metadata": {},
   "outputs": [
    {
     "data": {
      "image/png": "[encoded data removed]",
      "text/plain": [
       "<Figure size 432x288 with 1 Axes>"
      ]
     },
     "metadata": {
      "needs_background": "light"
     },
     "output_type": "display_data"
    }
   ],
   "source": [
    "Trip_distance = inner.pivot_table(index='Month', values='KM Travelled')\n",
    "Trip_distance.reset_index().plot.scatter('Month', 'KM Travelled', color='DarkGreen')\n",
    "plt.show()"
   ]
  },
  {
   "cell_type": "code",
   "execution_count": 72,
   "id": "eight-habitat",
   "metadata": {},
   "outputs": [
    {
     "name": "stdout",
     "output_type": "stream",
     "text": [
      "Towards the festive season, users appear to travel lonhger distances. We attribute this to holidays where customers might be travelling back home or visit tourist destinations\n"
     ]
    }
   ],
   "source": [
    "print('Towards the festive season, users appear to travel lonhger distances. We attribute this to holidays where customers might be travelling back home or visit tourist destinations')"
   ]
  },
  {
   "cell_type": "code",
   "execution_count": 73,
   "id": "suburban-walnut",
   "metadata": {},
   "outputs": [],
   "source": [
    "# Customer Distribution"
   ]
  },
  {
   "cell_type": "code",
   "execution_count": null,
   "id": "following-sodium",
   "metadata": {},
   "outputs": [],
   "source": []
  },
  {
   "cell_type": "code",
   "execution_count": 74,
   "id": "proud-netscape",
   "metadata": {},
   "outputs": [],
   "source": [
    "sns.set_style('darkgrid')"
   ]
  },
  {
   "cell_type": "code",
   "execution_count": null,
   "id": "beneficial-stamp",
   "metadata": {},
   "outputs": [],
   "source": []
  },
  {
   "cell_type": "code",
   "execution_count": 75,
   "id": "inner-overhead",
   "metadata": {},
   "outputs": [
    {
     "data": {
      "image/png": "[encoded data removed]",
      "text/plain": [
       "<Figure size 454.6x360 with 1 Axes>"
      ]
     },
     "metadata": {},
     "output_type": "display_data"
    }
   ],
   "source": [
    "#average profit by city\n",
    "sns.set_theme(style=\"ticks\", color_codes=True)\n",
    "sns.catplot(y='Price Charged', x='City', data=inner, jitter=False, hue='Company');"
   ]
  },
  {
   "cell_type": "code",
   "execution_count": null,
   "id": "sticky-pharmaceutical",
   "metadata": {},
   "outputs": [],
   "source": []
  },
  {
   "cell_type": "code",
   "execution_count": 21,
   "id": "rolled-release",
   "metadata": {},
   "outputs": [],
   "source": [
    "# Customer Segmentation"
   ]
  },
  {
   "cell_type": "code",
   "execution_count": 22,
   "id": "tender-swimming",
   "metadata": {},
   "outputs": [
    {
     "data": {
      "text/plain": [
       "Timestamp('2018-12-31 00:00:00')"
      ]
     },
     "execution_count": 22,
     "metadata": {},
     "output_type": "execute_result"
    }
   ],
   "source": [
    "# Last available date\n",
    "inner['Date of Travel'].max()"
   ]
  },
  {
   "cell_type": "code",
   "execution_count": 23,
   "id": "emotional-science",
   "metadata": {},
   "outputs": [
    {
     "data": {
      "text/plain": [
       "Timestamp('2016-01-02 00:00:00')"
      ]
     },
     "execution_count": 23,
     "metadata": {},
     "output_type": "execute_result"
    }
   ],
   "source": [
    "# Earliest available date\n",
    "inner['Date of Travel'].min()"
   ]
  },
  {
   "cell_type": "code",
   "execution_count": 24,
   "id": "desirable-subsection",
   "metadata": {},
   "outputs": [
    {
     "name": "stdout",
     "output_type": "stream",
     "text": [
      "2018-12-31\n"
     ]
    }
   ],
   "source": [
    "import datetime as dt\n",
    "now = dt.date(2018, 12, 31)\n",
    "print(now)"
   ]
  },
  {
   "cell_type": "code",
   "execution_count": 25,
   "id": "certified-alias",
   "metadata": {},
   "outputs": [],
   "source": [
    "inner['Date'] = pd.DatetimeIndex(inner['Date of Travel']).date"
   ]
  },
  {
   "cell_type": "code",
   "execution_count": 26,
   "id": "included-belize",
   "metadata": {},
   "outputs": [
    {
     "data": {
      "text/html": [
       "<div>\n",
       "<style scoped>\n",
       "    .dataframe tbody tr th:only-of-type {\n",
       "        vertical-align: middle;\n",
       "    }\n",
       "\n",
       "    .dataframe tbody tr th {\n",
       "        vertical-align: top;\n",
       "    }\n",
       "\n",
       "    .dataframe thead th {\n",
       "        text-align: right;\n",
       "    }\n",
       "</style>\n",
       "<table border=\"1\" class=\"dataframe\">\n",
       "  <thead>\n",
       "    <tr style=\"text-align: right;\">\n",
       "      <th></th>\n",
       "      <th>Transaction ID</th>\n",
       "      <th>Customer ID</th>\n",
       "      <th>Payment_Mode</th>\n",
       "      <th>Date of Travel</th>\n",
       "      <th>Company</th>\n",
       "      <th>City</th>\n",
       "      <th>KM Travelled</th>\n",
       "      <th>Price Charged</th>\n",
       "      <th>Cost of Trip</th>\n",
       "      <th>Day</th>\n",
       "      <th>Month</th>\n",
       "      <th>Year</th>\n",
       "      <th>Date</th>\n",
       "    </tr>\n",
       "  </thead>\n",
       "  <tbody>\n",
       "    <tr>\n",
       "      <th>0</th>\n",
       "      <td>10000011</td>\n",
       "      <td>29290</td>\n",
       "      <td>Card</td>\n",
       "      <td>2016-08-01</td>\n",
       "      <td>Pink Cab</td>\n",
       "      <td>ATLANTA GA</td>\n",
       "      <td>30.45</td>\n",
       "      <td>370.95</td>\n",
       "      <td>313.635</td>\n",
       "      <td>1</td>\n",
       "      <td>8</td>\n",
       "      <td>2016</td>\n",
       "      <td>2016-08-01</td>\n",
       "    </tr>\n",
       "    <tr>\n",
       "      <th>1</th>\n",
       "      <td>10000012</td>\n",
       "      <td>27703</td>\n",
       "      <td>Card</td>\n",
       "      <td>2016-06-01</td>\n",
       "      <td>Pink Cab</td>\n",
       "      <td>ATLANTA GA</td>\n",
       "      <td>28.62</td>\n",
       "      <td>358.52</td>\n",
       "      <td>334.854</td>\n",
       "      <td>1</td>\n",
       "      <td>6</td>\n",
       "      <td>2016</td>\n",
       "      <td>2016-06-01</td>\n",
       "    </tr>\n",
       "    <tr>\n",
       "      <th>2</th>\n",
       "      <td>10000013</td>\n",
       "      <td>28712</td>\n",
       "      <td>Cash</td>\n",
       "      <td>2016-02-01</td>\n",
       "      <td>Pink Cab</td>\n",
       "      <td>ATLANTA GA</td>\n",
       "      <td>9.04</td>\n",
       "      <td>125.20</td>\n",
       "      <td>97.632</td>\n",
       "      <td>1</td>\n",
       "      <td>2</td>\n",
       "      <td>2016</td>\n",
       "      <td>2016-02-01</td>\n",
       "    </tr>\n",
       "    <tr>\n",
       "      <th>3</th>\n",
       "      <td>10000014</td>\n",
       "      <td>28020</td>\n",
       "      <td>Cash</td>\n",
       "      <td>2016-07-01</td>\n",
       "      <td>Pink Cab</td>\n",
       "      <td>ATLANTA GA</td>\n",
       "      <td>33.17</td>\n",
       "      <td>377.40</td>\n",
       "      <td>351.602</td>\n",
       "      <td>1</td>\n",
       "      <td>7</td>\n",
       "      <td>2016</td>\n",
       "      <td>2016-07-01</td>\n",
       "    </tr>\n",
       "    <tr>\n",
       "      <th>4</th>\n",
       "      <td>10000015</td>\n",
       "      <td>27182</td>\n",
       "      <td>Card</td>\n",
       "      <td>2016-03-01</td>\n",
       "      <td>Pink Cab</td>\n",
       "      <td>ATLANTA GA</td>\n",
       "      <td>8.73</td>\n",
       "      <td>114.62</td>\n",
       "      <td>97.776</td>\n",
       "      <td>1</td>\n",
       "      <td>3</td>\n",
       "      <td>2016</td>\n",
       "      <td>2016-03-01</td>\n",
       "    </tr>\n",
       "  </tbody>\n",
       "</table>\n",
       "</div>"
      ],
      "text/plain": [
       "   Transaction ID  Customer ID Payment_Mode Date of Travel   Company  \\\n",
       "0        10000011        29290         Card     2016-08-01  Pink Cab   \n",
       "1        10000012        27703         Card     2016-06-01  Pink Cab   \n",
       "2        10000013        28712         Cash     2016-02-01  Pink Cab   \n",
       "3        10000014        28020         Cash     2016-07-01  Pink Cab   \n",
       "4        10000015        27182         Card     2016-03-01  Pink Cab   \n",
       "\n",
       "         City  KM Travelled  Price Charged  Cost of Trip  Day  Month  Year  \\\n",
       "0  ATLANTA GA         30.45         370.95       313.635    1      8  2016   \n",
       "1  ATLANTA GA         28.62         358.52       334.854    1      6  2016   \n",
       "2  ATLANTA GA          9.04         125.20        97.632    1      2  2016   \n",
       "3  ATLANTA GA         33.17         377.40       351.602    1      7  2016   \n",
       "4  ATLANTA GA          8.73         114.62        97.776    1      3  2016   \n",
       "\n",
       "         Date  \n",
       "0  2016-08-01  \n",
       "1  2016-06-01  \n",
       "2  2016-02-01  \n",
       "3  2016-07-01  \n",
       "4  2016-03-01  "
      ]
     },
     "execution_count": 26,
     "metadata": {},
     "output_type": "execute_result"
    }
   ],
   "source": [
    "inner.head()"
   ]
  },
  {
   "cell_type": "code",
   "execution_count": 27,
   "id": "floating-morris",
   "metadata": {},
   "outputs": [
    {
     "data": {
      "text/html": [
       "<div>\n",
       "<style scoped>\n",
       "    .dataframe tbody tr th:only-of-type {\n",
       "        vertical-align: middle;\n",
       "    }\n",
       "\n",
       "    .dataframe tbody tr th {\n",
       "        vertical-align: top;\n",
       "    }\n",
       "\n",
       "    .dataframe thead th {\n",
       "        text-align: right;\n",
       "    }\n",
       "</style>\n",
       "<table border=\"1\" class=\"dataframe\">\n",
       "  <thead>\n",
       "    <tr style=\"text-align: right;\">\n",
       "      <th></th>\n",
       "      <th>Customer ID</th>\n",
       "      <th>LastPurchaseDate</th>\n",
       "    </tr>\n",
       "  </thead>\n",
       "  <tbody>\n",
       "    <tr>\n",
       "      <th>0</th>\n",
       "      <td>1</td>\n",
       "      <td>2018-12-16</td>\n",
       "    </tr>\n",
       "    <tr>\n",
       "      <th>1</th>\n",
       "      <td>2</td>\n",
       "      <td>2018-12-16</td>\n",
       "    </tr>\n",
       "    <tr>\n",
       "      <th>2</th>\n",
       "      <td>3</td>\n",
       "      <td>2018-12-22</td>\n",
       "    </tr>\n",
       "    <tr>\n",
       "      <th>3</th>\n",
       "      <td>4</td>\n",
       "      <td>2018-12-15</td>\n",
       "    </tr>\n",
       "    <tr>\n",
       "      <th>4</th>\n",
       "      <td>5</td>\n",
       "      <td>2018-12-29</td>\n",
       "    </tr>\n",
       "  </tbody>\n",
       "</table>\n",
       "</div>"
      ],
      "text/plain": [
       "   Customer ID LastPurchaseDate\n",
       "0            1       2018-12-16\n",
       "1            2       2018-12-16\n",
       "2            3       2018-12-22\n",
       "3            4       2018-12-15\n",
       "4            5       2018-12-29"
      ]
     },
     "execution_count": 27,
     "metadata": {},
     "output_type": "execute_result"
    }
   ],
   "source": [
    "# Group by customer and last date of purchase\n",
    "recency_df = inner.groupby(by='Customer ID', as_index=False)['Date'].max()\n",
    "recency_df.columns = ['Customer ID', 'LastPurchaseDate']\n",
    "recency_df.head()"
   ]
  },
  {
   "cell_type": "code",
   "execution_count": 28,
   "id": "independent-gentleman",
   "metadata": {},
   "outputs": [],
   "source": [
    "recency_df['Recency'] = recency_df['LastPurchaseDate'].apply(lambda x: (now - x).days)"
   ]
  },
  {
   "cell_type": "code",
   "execution_count": 29,
   "id": "desperate-violence",
   "metadata": {},
   "outputs": [
    {
     "data": {
      "text/html": [
       "<div>\n",
       "<style scoped>\n",
       "    .dataframe tbody tr th:only-of-type {\n",
       "        vertical-align: middle;\n",
       "    }\n",
       "\n",
       "    .dataframe tbody tr th {\n",
       "        vertical-align: top;\n",
       "    }\n",
       "\n",
       "    .dataframe thead th {\n",
       "        text-align: right;\n",
       "    }\n",
       "</style>\n",
       "<table border=\"1\" class=\"dataframe\">\n",
       "  <thead>\n",
       "    <tr style=\"text-align: right;\">\n",
       "      <th></th>\n",
       "      <th>Customer ID</th>\n",
       "      <th>LastPurchaseDate</th>\n",
       "      <th>Recency</th>\n",
       "    </tr>\n",
       "  </thead>\n",
       "  <tbody>\n",
       "    <tr>\n",
       "      <th>0</th>\n",
       "      <td>1</td>\n",
       "      <td>2018-12-16</td>\n",
       "      <td>15</td>\n",
       "    </tr>\n",
       "    <tr>\n",
       "      <th>1</th>\n",
       "      <td>2</td>\n",
       "      <td>2018-12-16</td>\n",
       "      <td>15</td>\n",
       "    </tr>\n",
       "    <tr>\n",
       "      <th>2</th>\n",
       "      <td>3</td>\n",
       "      <td>2018-12-22</td>\n",
       "      <td>9</td>\n",
       "    </tr>\n",
       "    <tr>\n",
       "      <th>3</th>\n",
       "      <td>4</td>\n",
       "      <td>2018-12-15</td>\n",
       "      <td>16</td>\n",
       "    </tr>\n",
       "    <tr>\n",
       "      <th>4</th>\n",
       "      <td>5</td>\n",
       "      <td>2018-12-29</td>\n",
       "      <td>2</td>\n",
       "    </tr>\n",
       "  </tbody>\n",
       "</table>\n",
       "</div>"
      ],
      "text/plain": [
       "   Customer ID LastPurchaseDate  Recency\n",
       "0            1       2018-12-16       15\n",
       "1            2       2018-12-16       15\n",
       "2            3       2018-12-22        9\n",
       "3            4       2018-12-15       16\n",
       "4            5       2018-12-29        2"
      ]
     },
     "execution_count": 29,
     "metadata": {},
     "output_type": "execute_result"
    }
   ],
   "source": [
    "recency_df.head()"
   ]
  },
  {
   "cell_type": "code",
   "execution_count": 30,
   "id": "fluid-restoration",
   "metadata": {},
   "outputs": [],
   "source": [
    "recency_df.drop('LastPurchaseDate', axis=1, inplace=True)"
   ]
  },
  {
   "cell_type": "code",
   "execution_count": 31,
   "id": "permanent-salvation",
   "metadata": {},
   "outputs": [
    {
     "data": {
      "text/plain": [
       "19"
      ]
     },
     "execution_count": 31,
     "metadata": {},
     "output_type": "execute_result"
    }
   ],
   "source": [
    "# Customer distribution by city\n",
    "inner.City.nunique()"
   ]
  },
  {
   "cell_type": "code",
   "execution_count": 32,
   "id": "french-apparel",
   "metadata": {},
   "outputs": [
    {
     "data": {
      "text/html": [
       "<div>\n",
       "<style scoped>\n",
       "    .dataframe tbody tr th:only-of-type {\n",
       "        vertical-align: middle;\n",
       "    }\n",
       "\n",
       "    .dataframe tbody tr th {\n",
       "        vertical-align: top;\n",
       "    }\n",
       "\n",
       "    .dataframe thead th {\n",
       "        text-align: right;\n",
       "    }\n",
       "</style>\n",
       "<table border=\"1\" class=\"dataframe\">\n",
       "  <thead>\n",
       "    <tr style=\"text-align: right;\">\n",
       "      <th></th>\n",
       "      <th>City</th>\n",
       "      <th>Customer ID</th>\n",
       "    </tr>\n",
       "  </thead>\n",
       "  <tbody>\n",
       "    <tr>\n",
       "      <th>9</th>\n",
       "      <td>NEW YORK NY</td>\n",
       "      <td>3000</td>\n",
       "    </tr>\n",
       "    <tr>\n",
       "      <th>3</th>\n",
       "      <td>CHICAGO IL</td>\n",
       "      <td>3000</td>\n",
       "    </tr>\n",
       "    <tr>\n",
       "      <th>6</th>\n",
       "      <td>LOS ANGELES CA</td>\n",
       "      <td>3000</td>\n",
       "    </tr>\n",
       "    <tr>\n",
       "      <th>18</th>\n",
       "      <td>WASHINGTON DC</td>\n",
       "      <td>3000</td>\n",
       "    </tr>\n",
       "    <tr>\n",
       "      <th>2</th>\n",
       "      <td>BOSTON MA</td>\n",
       "      <td>3000</td>\n",
       "    </tr>\n",
       "    <tr>\n",
       "      <th>14</th>\n",
       "      <td>SAN DIEGO CA</td>\n",
       "      <td>2998</td>\n",
       "    </tr>\n",
       "    <tr>\n",
       "      <th>16</th>\n",
       "      <td>SILICON VALLEY</td>\n",
       "      <td>2834</td>\n",
       "    </tr>\n",
       "    <tr>\n",
       "      <th>15</th>\n",
       "      <td>SEATTLE WA</td>\n",
       "      <td>2811</td>\n",
       "    </tr>\n",
       "    <tr>\n",
       "      <th>0</th>\n",
       "      <td>ATLANTA GA</td>\n",
       "      <td>2780</td>\n",
       "    </tr>\n",
       "    <tr>\n",
       "      <th>4</th>\n",
       "      <td>DALLAS TX</td>\n",
       "      <td>2743</td>\n",
       "    </tr>\n",
       "    <tr>\n",
       "      <th>7</th>\n",
       "      <td>MIAMI FL</td>\n",
       "      <td>2680</td>\n",
       "    </tr>\n",
       "    <tr>\n",
       "      <th>1</th>\n",
       "      <td>AUSTIN TX</td>\n",
       "      <td>2419</td>\n",
       "    </tr>\n",
       "    <tr>\n",
       "      <th>10</th>\n",
       "      <td>ORANGE COUNTY</td>\n",
       "      <td>2216</td>\n",
       "    </tr>\n",
       "    <tr>\n",
       "      <th>5</th>\n",
       "      <td>DENVER CO</td>\n",
       "      <td>2171</td>\n",
       "    </tr>\n",
       "    <tr>\n",
       "      <th>8</th>\n",
       "      <td>NASHVILLE TN</td>\n",
       "      <td>1869</td>\n",
       "    </tr>\n",
       "    <tr>\n",
       "      <th>13</th>\n",
       "      <td>SACRAMENTO CA</td>\n",
       "      <td>1633</td>\n",
       "    </tr>\n",
       "    <tr>\n",
       "      <th>11</th>\n",
       "      <td>PHOENIX AZ</td>\n",
       "      <td>1515</td>\n",
       "    </tr>\n",
       "    <tr>\n",
       "      <th>17</th>\n",
       "      <td>TUCSON AZ</td>\n",
       "      <td>1411</td>\n",
       "    </tr>\n",
       "    <tr>\n",
       "      <th>12</th>\n",
       "      <td>PITTSBURGH PA</td>\n",
       "      <td>1068</td>\n",
       "    </tr>\n",
       "  </tbody>\n",
       "</table>\n",
       "</div>"
      ],
      "text/plain": [
       "              City  Customer ID\n",
       "9      NEW YORK NY         3000\n",
       "3       CHICAGO IL         3000\n",
       "6   LOS ANGELES CA         3000\n",
       "18   WASHINGTON DC         3000\n",
       "2        BOSTON MA         3000\n",
       "14    SAN DIEGO CA         2998\n",
       "16  SILICON VALLEY         2834\n",
       "15      SEATTLE WA         2811\n",
       "0       ATLANTA GA         2780\n",
       "4        DALLAS TX         2743\n",
       "7         MIAMI FL         2680\n",
       "1        AUSTIN TX         2419\n",
       "10   ORANGE COUNTY         2216\n",
       "5        DENVER CO         2171\n",
       "8     NASHVILLE TN         1869\n",
       "13   SACRAMENTO CA         1633\n",
       "11      PHOENIX AZ         1515\n",
       "17       TUCSON AZ         1411\n",
       "12   PITTSBURGH PA         1068"
      ]
     },
     "execution_count": 32,
     "metadata": {},
     "output_type": "execute_result"
    }
   ],
   "source": [
    "# Group Customers by City\n",
    "customer_city = inner[['City', 'Customer ID']].drop_duplicates()\n",
    "customer_city.groupby(['City'])['Customer ID'].aggregate('count').reset_index().sort_values('Customer ID', ascending=False)"
   ]
  },
  {
   "cell_type": "code",
   "execution_count": 33,
   "id": "amber-jerusalem",
   "metadata": {},
   "outputs": [
    {
     "data": {
      "text/html": [
       "<div>\n",
       "<style scoped>\n",
       "    .dataframe tbody tr th:only-of-type {\n",
       "        vertical-align: middle;\n",
       "    }\n",
       "\n",
       "    .dataframe tbody tr th {\n",
       "        vertical-align: top;\n",
       "    }\n",
       "\n",
       "    .dataframe thead th {\n",
       "        text-align: right;\n",
       "    }\n",
       "</style>\n",
       "<table border=\"1\" class=\"dataframe\">\n",
       "  <thead>\n",
       "    <tr style=\"text-align: right;\">\n",
       "      <th></th>\n",
       "      <th>Customer ID</th>\n",
       "      <th>Frequency</th>\n",
       "    </tr>\n",
       "  </thead>\n",
       "  <tbody>\n",
       "    <tr>\n",
       "      <th>0</th>\n",
       "      <td>1</td>\n",
       "      <td>29</td>\n",
       "    </tr>\n",
       "    <tr>\n",
       "      <th>1</th>\n",
       "      <td>2</td>\n",
       "      <td>40</td>\n",
       "    </tr>\n",
       "    <tr>\n",
       "      <th>2</th>\n",
       "      <td>3</td>\n",
       "      <td>46</td>\n",
       "    </tr>\n",
       "    <tr>\n",
       "      <th>3</th>\n",
       "      <td>4</td>\n",
       "      <td>26</td>\n",
       "    </tr>\n",
       "    <tr>\n",
       "      <th>4</th>\n",
       "      <td>5</td>\n",
       "      <td>31</td>\n",
       "    </tr>\n",
       "  </tbody>\n",
       "</table>\n",
       "</div>"
      ],
      "text/plain": [
       "   Customer ID  Frequency\n",
       "0            1         29\n",
       "1            2         40\n",
       "2            3         46\n",
       "3            4         26\n",
       "4            5         31"
      ]
     },
     "execution_count": 33,
     "metadata": {},
     "output_type": "execute_result"
    }
   ],
   "source": [
    "# Calculate Frequency\n",
    "frequency_df = inner.groupby(by=['Customer ID'], as_index=False)['Transaction ID'].count()\n",
    "frequency_df.columns = ['Customer ID', 'Frequency']\n",
    "frequency_df.head()"
   ]
  },
  {
   "cell_type": "code",
   "execution_count": 34,
   "id": "alike-advice",
   "metadata": {},
   "outputs": [],
   "source": [
    "from operator import attrgetter"
   ]
  },
  {
   "cell_type": "code",
   "execution_count": 35,
   "id": "renewable-bachelor",
   "metadata": {},
   "outputs": [
    {
     "data": {
      "text/html": [
       "<div>\n",
       "<style scoped>\n",
       "    .dataframe tbody tr th:only-of-type {\n",
       "        vertical-align: middle;\n",
       "    }\n",
       "\n",
       "    .dataframe tbody tr th {\n",
       "        vertical-align: top;\n",
       "    }\n",
       "\n",
       "    .dataframe thead th {\n",
       "        text-align: right;\n",
       "    }\n",
       "</style>\n",
       "<table border=\"1\" class=\"dataframe\">\n",
       "  <thead>\n",
       "    <tr style=\"text-align: right;\">\n",
       "      <th></th>\n",
       "      <th>count</th>\n",
       "      <th>mean</th>\n",
       "      <th>std</th>\n",
       "      <th>min</th>\n",
       "      <th>25%</th>\n",
       "      <th>50%</th>\n",
       "      <th>75%</th>\n",
       "      <th>max</th>\n",
       "    </tr>\n",
       "  </thead>\n",
       "  <tbody>\n",
       "    <tr>\n",
       "      <th>Transaction ID</th>\n",
       "      <td>359392.0</td>\n",
       "      <td>1.022076e+07</td>\n",
       "      <td>126805.803715</td>\n",
       "      <td>10000011.0</td>\n",
       "      <td>1.011081e+07</td>\n",
       "      <td>10221035.50</td>\n",
       "      <td>1.033094e+07</td>\n",
       "      <td>10440107.00</td>\n",
       "    </tr>\n",
       "    <tr>\n",
       "      <th>Customer ID</th>\n",
       "      <td>359392.0</td>\n",
       "      <td>1.919165e+04</td>\n",
       "      <td>21012.412463</td>\n",
       "      <td>1.0</td>\n",
       "      <td>2.705000e+03</td>\n",
       "      <td>7459.00</td>\n",
       "      <td>3.607800e+04</td>\n",
       "      <td>60000.00</td>\n",
       "    </tr>\n",
       "    <tr>\n",
       "      <th>KM Travelled</th>\n",
       "      <td>359392.0</td>\n",
       "      <td>2.256725e+01</td>\n",
       "      <td>12.233526</td>\n",
       "      <td>1.9</td>\n",
       "      <td>1.200000e+01</td>\n",
       "      <td>22.44</td>\n",
       "      <td>3.296000e+01</td>\n",
       "      <td>48.00</td>\n",
       "    </tr>\n",
       "    <tr>\n",
       "      <th>Price Charged</th>\n",
       "      <td>359392.0</td>\n",
       "      <td>4.234433e+02</td>\n",
       "      <td>274.378911</td>\n",
       "      <td>15.6</td>\n",
       "      <td>2.064375e+02</td>\n",
       "      <td>386.36</td>\n",
       "      <td>5.836600e+02</td>\n",
       "      <td>2048.03</td>\n",
       "    </tr>\n",
       "    <tr>\n",
       "      <th>Cost of Trip</th>\n",
       "      <td>359392.0</td>\n",
       "      <td>2.861901e+02</td>\n",
       "      <td>157.993661</td>\n",
       "      <td>19.0</td>\n",
       "      <td>1.512000e+02</td>\n",
       "      <td>282.48</td>\n",
       "      <td>4.136832e+02</td>\n",
       "      <td>691.20</td>\n",
       "    </tr>\n",
       "    <tr>\n",
       "      <th>Day</th>\n",
       "      <td>359392.0</td>\n",
       "      <td>1.597283e+01</td>\n",
       "      <td>8.503010</td>\n",
       "      <td>1.0</td>\n",
       "      <td>9.000000e+00</td>\n",
       "      <td>16.00</td>\n",
       "      <td>2.300000e+01</td>\n",
       "      <td>31.00</td>\n",
       "    </tr>\n",
       "    <tr>\n",
       "      <th>Month</th>\n",
       "      <td>359392.0</td>\n",
       "      <td>7.156047e+00</td>\n",
       "      <td>3.413283</td>\n",
       "      <td>1.0</td>\n",
       "      <td>4.000000e+00</td>\n",
       "      <td>8.00</td>\n",
       "      <td>1.000000e+01</td>\n",
       "      <td>12.00</td>\n",
       "    </tr>\n",
       "    <tr>\n",
       "      <th>Year</th>\n",
       "      <td>359392.0</td>\n",
       "      <td>2.017045e+03</td>\n",
       "      <td>0.800239</td>\n",
       "      <td>2016.0</td>\n",
       "      <td>2.016000e+03</td>\n",
       "      <td>2017.00</td>\n",
       "      <td>2.018000e+03</td>\n",
       "      <td>2018.00</td>\n",
       "    </tr>\n",
       "  </tbody>\n",
       "</table>\n",
       "</div>"
      ],
      "text/plain": [
       "                   count          mean            std         min  \\\n",
       "Transaction ID  359392.0  1.022076e+07  126805.803715  10000011.0   \n",
       "Customer ID     359392.0  1.919165e+04   21012.412463         1.0   \n",
       "KM Travelled    359392.0  2.256725e+01      12.233526         1.9   \n",
       "Price Charged   359392.0  4.234433e+02     274.378911        15.6   \n",
       "Cost of Trip    359392.0  2.861901e+02     157.993661        19.0   \n",
       "Day             359392.0  1.597283e+01       8.503010         1.0   \n",
       "Month           359392.0  7.156047e+00       3.413283         1.0   \n",
       "Year            359392.0  2.017045e+03       0.800239      2016.0   \n",
       "\n",
       "                         25%          50%           75%          max  \n",
       "Transaction ID  1.011081e+07  10221035.50  1.033094e+07  10440107.00  \n",
       "Customer ID     2.705000e+03      7459.00  3.607800e+04     60000.00  \n",
       "KM Travelled    1.200000e+01        22.44  3.296000e+01        48.00  \n",
       "Price Charged   2.064375e+02       386.36  5.836600e+02      2048.03  \n",
       "Cost of Trip    1.512000e+02       282.48  4.136832e+02       691.20  \n",
       "Day             9.000000e+00        16.00  2.300000e+01        31.00  \n",
       "Month           4.000000e+00         8.00  1.000000e+01        12.00  \n",
       "Year            2.016000e+03      2017.00  2.018000e+03      2018.00  "
      ]
     },
     "execution_count": 35,
     "metadata": {},
     "output_type": "execute_result"
    }
   ],
   "source": [
    "inner.describe().transpose()"
   ]
  },
  {
   "cell_type": "code",
   "execution_count": null,
   "id": "practical-benefit",
   "metadata": {},
   "outputs": [],
   "source": []
  },
  {
   "cell_type": "code",
   "execution_count": null,
   "id": "recovered-spell",
   "metadata": {},
   "outputs": [],
   "source": [
    "# Merge City with Transactions on 'City'\n"
   ]
  },
  {
   "cell_type": "code",
   "execution_count": 36,
   "id": "strange-modern",
   "metadata": {},
   "outputs": [],
   "source": [
    "df3 = pd.read_csv(\"C:/Users/user/OneDrive/Desktop/Career/Data Glacier VI/VC-1/DataSets/City.csv\")"
   ]
  },
  {
   "cell_type": "code",
   "execution_count": 37,
   "id": "diagnostic-gentleman",
   "metadata": {},
   "outputs": [
    {
     "data": {
      "text/html": [
       "<div>\n",
       "<style scoped>\n",
       "    .dataframe tbody tr th:only-of-type {\n",
       "        vertical-align: middle;\n",
       "    }\n",
       "\n",
       "    .dataframe tbody tr th {\n",
       "        vertical-align: top;\n",
       "    }\n",
       "\n",
       "    .dataframe thead th {\n",
       "        text-align: right;\n",
       "    }\n",
       "</style>\n",
       "<table border=\"1\" class=\"dataframe\">\n",
       "  <thead>\n",
       "    <tr style=\"text-align: right;\">\n",
       "      <th></th>\n",
       "      <th>City</th>\n",
       "      <th>Population</th>\n",
       "      <th>Users</th>\n",
       "    </tr>\n",
       "  </thead>\n",
       "  <tbody>\n",
       "    <tr>\n",
       "      <th>0</th>\n",
       "      <td>NEW YORK NY</td>\n",
       "      <td>8,405,837</td>\n",
       "      <td>302,149</td>\n",
       "    </tr>\n",
       "    <tr>\n",
       "      <th>1</th>\n",
       "      <td>CHICAGO IL</td>\n",
       "      <td>1,955,130</td>\n",
       "      <td>164,468</td>\n",
       "    </tr>\n",
       "    <tr>\n",
       "      <th>2</th>\n",
       "      <td>LOS ANGELES CA</td>\n",
       "      <td>1,595,037</td>\n",
       "      <td>144,132</td>\n",
       "    </tr>\n",
       "    <tr>\n",
       "      <th>3</th>\n",
       "      <td>MIAMI FL</td>\n",
       "      <td>1,339,155</td>\n",
       "      <td>17,675</td>\n",
       "    </tr>\n",
       "    <tr>\n",
       "      <th>4</th>\n",
       "      <td>SILICON VALLEY</td>\n",
       "      <td>1,177,609</td>\n",
       "      <td>27,247</td>\n",
       "    </tr>\n",
       "  </tbody>\n",
       "</table>\n",
       "</div>"
      ],
      "text/plain": [
       "             City   Population      Users\n",
       "0     NEW YORK NY   8,405,837    302,149 \n",
       "1      CHICAGO IL   1,955,130    164,468 \n",
       "2  LOS ANGELES CA   1,595,037    144,132 \n",
       "3        MIAMI FL   1,339,155     17,675 \n",
       "4  SILICON VALLEY   1,177,609     27,247 "
      ]
     },
     "execution_count": 37,
     "metadata": {},
     "output_type": "execute_result"
    }
   ],
   "source": [
    "df3.head()"
   ]
  },
  {
   "cell_type": "code",
   "execution_count": 38,
   "id": "dominican-mineral",
   "metadata": {},
   "outputs": [
    {
     "name": "stdout",
     "output_type": "stream",
     "text": [
      "This dataset has 20 rows and 3 columns.\n"
     ]
    }
   ],
   "source": [
    "df3.shape\n",
    "print(f'This dataset has {df3.shape[0]} rows and {df3.shape[1]} columns.')"
   ]
  },
  {
   "cell_type": "code",
   "execution_count": 39,
   "id": "august-process",
   "metadata": {},
   "outputs": [
    {
     "data": {
      "text/plain": [
       "City          0\n",
       "Population    0\n",
       "Users         0\n",
       "dtype: int64"
      ]
     },
     "execution_count": 39,
     "metadata": {},
     "output_type": "execute_result"
    }
   ],
   "source": [
    "df3.isnull().sum()"
   ]
  },
  {
   "cell_type": "code",
   "execution_count": 40,
   "id": "dirty-equality",
   "metadata": {},
   "outputs": [
    {
     "data": {
      "text/plain": [
       "False"
      ]
     },
     "execution_count": 40,
     "metadata": {},
     "output_type": "execute_result"
    }
   ],
   "source": [
    "df3.isnull().values.any()"
   ]
  },
  {
   "cell_type": "code",
   "execution_count": 41,
   "id": "affecting-house",
   "metadata": {},
   "outputs": [
    {
     "data": {
      "text/plain": [
       "City          3\n",
       "Population    3\n",
       "Users         3\n",
       "dtype: int64"
      ]
     },
     "execution_count": 41,
     "metadata": {},
     "output_type": "execute_result"
    }
   ],
   "source": [
    "df3.describe().nunique()"
   ]
  },
  {
   "cell_type": "code",
   "execution_count": 62,
   "id": "recorded-charles",
   "metadata": {},
   "outputs": [
    {
     "name": "stdout",
     "output_type": "stream",
     "text": [
      "We assume that two of three types of cab users represent users of either Yellow Cab or Pink Cab, while the third type of user represents another cab company\n"
     ]
    }
   ],
   "source": [
    "print('We assume that two of three types of cab users represent users of either Yellow Cab or Pink Cab, while the third type of user represents another cab company')"
   ]
  },
  {
   "cell_type": "code",
   "execution_count": 42,
   "id": "accessory-constitution",
   "metadata": {},
   "outputs": [
    {
     "data": {
      "text/html": [
       "<div>\n",
       "<style scoped>\n",
       "    .dataframe tbody tr th:only-of-type {\n",
       "        vertical-align: middle;\n",
       "    }\n",
       "\n",
       "    .dataframe tbody tr th {\n",
       "        vertical-align: top;\n",
       "    }\n",
       "\n",
       "    .dataframe thead th {\n",
       "        text-align: right;\n",
       "    }\n",
       "</style>\n",
       "<table border=\"1\" class=\"dataframe\">\n",
       "  <thead>\n",
       "    <tr style=\"text-align: right;\">\n",
       "      <th></th>\n",
       "      <th>count</th>\n",
       "      <th>unique</th>\n",
       "      <th>top</th>\n",
       "      <th>freq</th>\n",
       "    </tr>\n",
       "  </thead>\n",
       "  <tbody>\n",
       "    <tr>\n",
       "      <th>City</th>\n",
       "      <td>20</td>\n",
       "      <td>20</td>\n",
       "      <td>LOS ANGELES CA</td>\n",
       "      <td>1</td>\n",
       "    </tr>\n",
       "    <tr>\n",
       "      <th>Population</th>\n",
       "      <td>20</td>\n",
       "      <td>20</td>\n",
       "      <td>8,405,837</td>\n",
       "      <td>1</td>\n",
       "    </tr>\n",
       "    <tr>\n",
       "      <th>Users</th>\n",
       "      <td>20</td>\n",
       "      <td>20</td>\n",
       "      <td>7,044</td>\n",
       "      <td>1</td>\n",
       "    </tr>\n",
       "  </tbody>\n",
       "</table>\n",
       "</div>"
      ],
      "text/plain": [
       "           count unique             top freq\n",
       "City          20     20  LOS ANGELES CA    1\n",
       "Population    20     20      8,405,837     1\n",
       "Users         20     20          7,044     1"
      ]
     },
     "execution_count": 42,
     "metadata": {},
     "output_type": "execute_result"
    }
   ],
   "source": [
    "df3.describe().transpose()"
   ]
  },
  {
   "cell_type": "code",
   "execution_count": 46,
   "id": "human-private",
   "metadata": {},
   "outputs": [
    {
     "data": {
      "text/plain": [
       "' 9,270 '"
      ]
     },
     "execution_count": 46,
     "metadata": {},
     "output_type": "execute_result"
    }
   ],
   "source": [
    "df3['Users'].max()"
   ]
  },
  {
   "cell_type": "code",
   "execution_count": 47,
   "id": "coordinate-meeting",
   "metadata": {},
   "outputs": [],
   "source": [
    "inner2 = pd.merge(inner, df3, on='City')"
   ]
  },
  {
   "cell_type": "code",
   "execution_count": 48,
   "id": "rational-karaoke",
   "metadata": {},
   "outputs": [
    {
     "data": {
      "text/html": [
       "<div>\n",
       "<style scoped>\n",
       "    .dataframe tbody tr th:only-of-type {\n",
       "        vertical-align: middle;\n",
       "    }\n",
       "\n",
       "    .dataframe tbody tr th {\n",
       "        vertical-align: top;\n",
       "    }\n",
       "\n",
       "    .dataframe thead th {\n",
       "        text-align: right;\n",
       "    }\n",
       "</style>\n",
       "<table border=\"1\" class=\"dataframe\">\n",
       "  <thead>\n",
       "    <tr style=\"text-align: right;\">\n",
       "      <th></th>\n",
       "      <th>Transaction ID</th>\n",
       "      <th>Customer ID</th>\n",
       "      <th>Payment_Mode</th>\n",
       "      <th>Date of Travel</th>\n",
       "      <th>Company</th>\n",
       "      <th>City</th>\n",
       "      <th>KM Travelled</th>\n",
       "      <th>Price Charged</th>\n",
       "      <th>Cost of Trip</th>\n",
       "      <th>Day</th>\n",
       "      <th>Month</th>\n",
       "      <th>Year</th>\n",
       "      <th>Date</th>\n",
       "      <th>Population</th>\n",
       "      <th>Users</th>\n",
       "    </tr>\n",
       "  </thead>\n",
       "  <tbody>\n",
       "    <tr>\n",
       "      <th>0</th>\n",
       "      <td>10000011</td>\n",
       "      <td>29290</td>\n",
       "      <td>Card</td>\n",
       "      <td>2016-08-01</td>\n",
       "      <td>Pink Cab</td>\n",
       "      <td>ATLANTA GA</td>\n",
       "      <td>30.45</td>\n",
       "      <td>370.95</td>\n",
       "      <td>313.635</td>\n",
       "      <td>1</td>\n",
       "      <td>8</td>\n",
       "      <td>2016</td>\n",
       "      <td>2016-08-01</td>\n",
       "      <td>814,885</td>\n",
       "      <td>24,701</td>\n",
       "    </tr>\n",
       "    <tr>\n",
       "      <th>1</th>\n",
       "      <td>10000012</td>\n",
       "      <td>27703</td>\n",
       "      <td>Card</td>\n",
       "      <td>2016-06-01</td>\n",
       "      <td>Pink Cab</td>\n",
       "      <td>ATLANTA GA</td>\n",
       "      <td>28.62</td>\n",
       "      <td>358.52</td>\n",
       "      <td>334.854</td>\n",
       "      <td>1</td>\n",
       "      <td>6</td>\n",
       "      <td>2016</td>\n",
       "      <td>2016-06-01</td>\n",
       "      <td>814,885</td>\n",
       "      <td>24,701</td>\n",
       "    </tr>\n",
       "    <tr>\n",
       "      <th>2</th>\n",
       "      <td>10000013</td>\n",
       "      <td>28712</td>\n",
       "      <td>Cash</td>\n",
       "      <td>2016-02-01</td>\n",
       "      <td>Pink Cab</td>\n",
       "      <td>ATLANTA GA</td>\n",
       "      <td>9.04</td>\n",
       "      <td>125.20</td>\n",
       "      <td>97.632</td>\n",
       "      <td>1</td>\n",
       "      <td>2</td>\n",
       "      <td>2016</td>\n",
       "      <td>2016-02-01</td>\n",
       "      <td>814,885</td>\n",
       "      <td>24,701</td>\n",
       "    </tr>\n",
       "    <tr>\n",
       "      <th>3</th>\n",
       "      <td>10000014</td>\n",
       "      <td>28020</td>\n",
       "      <td>Cash</td>\n",
       "      <td>2016-07-01</td>\n",
       "      <td>Pink Cab</td>\n",
       "      <td>ATLANTA GA</td>\n",
       "      <td>33.17</td>\n",
       "      <td>377.40</td>\n",
       "      <td>351.602</td>\n",
       "      <td>1</td>\n",
       "      <td>7</td>\n",
       "      <td>2016</td>\n",
       "      <td>2016-07-01</td>\n",
       "      <td>814,885</td>\n",
       "      <td>24,701</td>\n",
       "    </tr>\n",
       "    <tr>\n",
       "      <th>4</th>\n",
       "      <td>10000015</td>\n",
       "      <td>27182</td>\n",
       "      <td>Card</td>\n",
       "      <td>2016-03-01</td>\n",
       "      <td>Pink Cab</td>\n",
       "      <td>ATLANTA GA</td>\n",
       "      <td>8.73</td>\n",
       "      <td>114.62</td>\n",
       "      <td>97.776</td>\n",
       "      <td>1</td>\n",
       "      <td>3</td>\n",
       "      <td>2016</td>\n",
       "      <td>2016-03-01</td>\n",
       "      <td>814,885</td>\n",
       "      <td>24,701</td>\n",
       "    </tr>\n",
       "  </tbody>\n",
       "</table>\n",
       "</div>"
      ],
      "text/plain": [
       "   Transaction ID  Customer ID Payment_Mode Date of Travel   Company  \\\n",
       "0        10000011        29290         Card     2016-08-01  Pink Cab   \n",
       "1        10000012        27703         Card     2016-06-01  Pink Cab   \n",
       "2        10000013        28712         Cash     2016-02-01  Pink Cab   \n",
       "3        10000014        28020         Cash     2016-07-01  Pink Cab   \n",
       "4        10000015        27182         Card     2016-03-01  Pink Cab   \n",
       "\n",
       "         City  KM Travelled  Price Charged  Cost of Trip  Day  Month  Year  \\\n",
       "0  ATLANTA GA         30.45         370.95       313.635    1      8  2016   \n",
       "1  ATLANTA GA         28.62         358.52       334.854    1      6  2016   \n",
       "2  ATLANTA GA          9.04         125.20        97.632    1      2  2016   \n",
       "3  ATLANTA GA         33.17         377.40       351.602    1      7  2016   \n",
       "4  ATLANTA GA          8.73         114.62        97.776    1      3  2016   \n",
       "\n",
       "         Date Population     Users  \n",
       "0  2016-08-01   814,885    24,701   \n",
       "1  2016-06-01   814,885    24,701   \n",
       "2  2016-02-01   814,885    24,701   \n",
       "3  2016-07-01   814,885    24,701   \n",
       "4  2016-03-01   814,885    24,701   "
      ]
     },
     "execution_count": 48,
     "metadata": {},
     "output_type": "execute_result"
    }
   ],
   "source": [
    "inner2.head()"
   ]
  },
  {
   "cell_type": "code",
   "execution_count": 49,
   "id": "sitting-excitement",
   "metadata": {},
   "outputs": [
    {
     "name": "stdout",
     "output_type": "stream",
     "text": [
      "<class 'pandas.core.frame.DataFrame'>\n",
      "Int64Index: 359392 entries, 0 to 359391\n",
      "Data columns (total 15 columns):\n",
      " #   Column          Non-Null Count   Dtype         \n",
      "---  ------          --------------   -----         \n",
      " 0   Transaction ID  359392 non-null  int64         \n",
      " 1   Customer ID     359392 non-null  int64         \n",
      " 2   Payment_Mode    359392 non-null  object        \n",
      " 3   Date of Travel  359392 non-null  datetime64[ns]\n",
      " 4   Company         359392 non-null  object        \n",
      " 5   City            359392 non-null  object        \n",
      " 6   KM Travelled    359392 non-null  float64       \n",
      " 7   Price Charged   359392 non-null  float64       \n",
      " 8   Cost of Trip    359392 non-null  float64       \n",
      " 9   Day             359392 non-null  int64         \n",
      " 10  Month           359392 non-null  int64         \n",
      " 11  Year            359392 non-null  int64         \n",
      " 12  Date            359392 non-null  object        \n",
      " 13  Population      359392 non-null  object        \n",
      " 14  Users           359392 non-null  object        \n",
      "dtypes: datetime64[ns](1), float64(3), int64(5), object(6)\n",
      "memory usage: 43.9+ MB\n"
     ]
    }
   ],
   "source": [
    "inner2.info()"
   ]
  },
  {
   "cell_type": "code",
   "execution_count": 55,
   "id": "instructional-lyric",
   "metadata": {},
   "outputs": [
    {
     "data": {
      "text/plain": [
       "Transaction ID\n",
       "10000011      Pink Cab\n",
       "10000012      Pink Cab\n",
       "10000013      Pink Cab\n",
       "10000014      Pink Cab\n",
       "10000015      Pink Cab\n",
       "               ...    \n",
       "10440101    Yellow Cab\n",
       "10440104    Yellow Cab\n",
       "10440105    Yellow Cab\n",
       "10440106    Yellow Cab\n",
       "10440107    Yellow Cab\n",
       "Name: Company, Length: 359392, dtype: object"
      ]
     },
     "execution_count": 55,
     "metadata": {},
     "output_type": "execute_result"
    }
   ],
   "source": [
    "inner2.groupby(['Transaction ID'])['Company'].sum()"
   ]
  },
  {
   "cell_type": "code",
   "execution_count": 56,
   "id": "temporal-athletics",
   "metadata": {},
   "outputs": [],
   "source": [
    "cat_inner2 = inner2.select_dtypes(include=['object']).copy()"
   ]
  },
  {
   "cell_type": "code",
   "execution_count": 57,
   "id": "satisfactory-perception",
   "metadata": {},
   "outputs": [
    {
     "data": {
      "text/html": [
       "<div>\n",
       "<style scoped>\n",
       "    .dataframe tbody tr th:only-of-type {\n",
       "        vertical-align: middle;\n",
       "    }\n",
       "\n",
       "    .dataframe tbody tr th {\n",
       "        vertical-align: top;\n",
       "    }\n",
       "\n",
       "    .dataframe thead th {\n",
       "        text-align: right;\n",
       "    }\n",
       "</style>\n",
       "<table border=\"1\" class=\"dataframe\">\n",
       "  <thead>\n",
       "    <tr style=\"text-align: right;\">\n",
       "      <th></th>\n",
       "      <th>Payment_Mode</th>\n",
       "      <th>Company</th>\n",
       "      <th>City</th>\n",
       "      <th>Date</th>\n",
       "      <th>Population</th>\n",
       "      <th>Users</th>\n",
       "    </tr>\n",
       "  </thead>\n",
       "  <tbody>\n",
       "    <tr>\n",
       "      <th>0</th>\n",
       "      <td>Card</td>\n",
       "      <td>Pink Cab</td>\n",
       "      <td>ATLANTA GA</td>\n",
       "      <td>2016-08-01</td>\n",
       "      <td>814,885</td>\n",
       "      <td>24,701</td>\n",
       "    </tr>\n",
       "    <tr>\n",
       "      <th>1</th>\n",
       "      <td>Card</td>\n",
       "      <td>Pink Cab</td>\n",
       "      <td>ATLANTA GA</td>\n",
       "      <td>2016-06-01</td>\n",
       "      <td>814,885</td>\n",
       "      <td>24,701</td>\n",
       "    </tr>\n",
       "    <tr>\n",
       "      <th>2</th>\n",
       "      <td>Cash</td>\n",
       "      <td>Pink Cab</td>\n",
       "      <td>ATLANTA GA</td>\n",
       "      <td>2016-02-01</td>\n",
       "      <td>814,885</td>\n",
       "      <td>24,701</td>\n",
       "    </tr>\n",
       "    <tr>\n",
       "      <th>3</th>\n",
       "      <td>Cash</td>\n",
       "      <td>Pink Cab</td>\n",
       "      <td>ATLANTA GA</td>\n",
       "      <td>2016-07-01</td>\n",
       "      <td>814,885</td>\n",
       "      <td>24,701</td>\n",
       "    </tr>\n",
       "    <tr>\n",
       "      <th>4</th>\n",
       "      <td>Card</td>\n",
       "      <td>Pink Cab</td>\n",
       "      <td>ATLANTA GA</td>\n",
       "      <td>2016-03-01</td>\n",
       "      <td>814,885</td>\n",
       "      <td>24,701</td>\n",
       "    </tr>\n",
       "  </tbody>\n",
       "</table>\n",
       "</div>"
      ],
      "text/plain": [
       "  Payment_Mode   Company        City        Date Population     Users\n",
       "0         Card  Pink Cab  ATLANTA GA  2016-08-01   814,885    24,701 \n",
       "1         Card  Pink Cab  ATLANTA GA  2016-06-01   814,885    24,701 \n",
       "2         Cash  Pink Cab  ATLANTA GA  2016-02-01   814,885    24,701 \n",
       "3         Cash  Pink Cab  ATLANTA GA  2016-07-01   814,885    24,701 \n",
       "4         Card  Pink Cab  ATLANTA GA  2016-03-01   814,885    24,701 "
      ]
     },
     "execution_count": 57,
     "metadata": {},
     "output_type": "execute_result"
    }
   ],
   "source": [
    "cat_inner2.head()"
   ]
  },
  {
   "cell_type": "code",
   "execution_count": 58,
   "id": "overall-enemy",
   "metadata": {},
   "outputs": [
    {
     "data": {
      "text/plain": [
       "0"
      ]
     },
     "execution_count": 58,
     "metadata": {},
     "output_type": "execute_result"
    }
   ],
   "source": [
    "cat_inner2.isnull().values.sum()"
   ]
  },
  {
   "cell_type": "code",
   "execution_count": 59,
   "id": "ambient-anniversary",
   "metadata": {},
   "outputs": [
    {
     "data": {
      "text/plain": [
       "Payment_Mode    0\n",
       "Company         0\n",
       "City            0\n",
       "Date            0\n",
       "Population      0\n",
       "Users           0\n",
       "dtype: int64"
      ]
     },
     "execution_count": 59,
     "metadata": {},
     "output_type": "execute_result"
    }
   ],
   "source": [
    "cat_inner2.isnull().sum()"
   ]
  },
  {
   "cell_type": "code",
   "execution_count": 60,
   "id": "golden-orbit",
   "metadata": {},
   "outputs": [
    {
     "data": {
      "text/plain": [
       "NEW YORK NY       0.277928\n",
       "CHICAGO IL        0.157558\n",
       "LOS ANGELES CA    0.133651\n",
       "WASHINGTON DC     0.121697\n",
       "BOSTON MA         0.082617\n",
       "SAN DIEGO CA      0.057007\n",
       "SILICON VALLEY    0.023704\n",
       "SEATTLE WA        0.022251\n",
       "ATLANTA GA        0.021027\n",
       "DALLAS TX         0.019525\n",
       "MIAMI FL          0.017958\n",
       "AUSTIN TX         0.013623\n",
       "ORANGE COUNTY     0.011080\n",
       "DENVER CO         0.010643\n",
       "NASHVILLE TN      0.008375\n",
       "SACRAMENTO CA     0.006586\n",
       "PHOENIX AZ        0.005743\n",
       "TUCSON AZ         0.005373\n",
       "PITTSBURGH PA     0.003653\n",
       "Name: City, dtype: float64"
      ]
     },
     "execution_count": 60,
     "metadata": {},
     "output_type": "execute_result"
    }
   ],
   "source": [
    "cat_inner2['City'].value_counts(normalize=True)"
   ]
  },
  {
   "cell_type": "code",
   "execution_count": 61,
   "id": "recent-delight",
   "metadata": {},
   "outputs": [
    {
     "name": "stdout",
     "output_type": "stream",
     "text": [
      "New York appears to have the most frequent cab users(27%)\n"
     ]
    }
   ],
   "source": [
    "print('New York appears to have the most frequent cab users(27%)')# Frequency of users per city - New York appears to have the most frequent cab users (27%)"
   ]
  },
  {
   "cell_type": "code",
   "execution_count": 76,
   "id": "sized-lover",
   "metadata": {},
   "outputs": [
    {
     "data": {
      "text/plain": [
       "Yellow Cab    0.764294\n",
       "Pink Cab      0.235706\n",
       "Name: Company, dtype: float64"
      ]
     },
     "execution_count": 76,
     "metadata": {},
     "output_type": "execute_result"
    }
   ],
   "source": [
    "cat_inner2['Company'].value_counts(normalize=True)"
   ]
  },
  {
   "cell_type": "code",
   "execution_count": 77,
   "id": "typical-journal",
   "metadata": {},
   "outputs": [
    {
     "name": "stdout",
     "output_type": "stream",
     "text": [
      "Yellow Cab appears to be 76% more popular among cab users\n"
     ]
    }
   ],
   "source": [
    "# Frequency distribution of users by cab company\n",
    "print('Yellow Cab appears to be 76% more popular among cab users')"
   ]
  },
  {
   "cell_type": "code",
   "execution_count": 86,
   "id": "entire-borough",
   "metadata": {},
   "outputs": [
    {
     "data": {
      "text/plain": [
       "Card    0.599635\n",
       "Cash    0.400365\n",
       "Name: Payment_Mode, dtype: float64"
      ]
     },
     "execution_count": 86,
     "metadata": {},
     "output_type": "execute_result"
    }
   ],
   "source": [
    "cat_inner2['Payment_Mode'].value_counts(normalize=True)"
   ]
  },
  {
   "cell_type": "code",
   "execution_count": 79,
   "id": "experimental-douglas",
   "metadata": {},
   "outputs": [
    {
     "name": "stdout",
     "output_type": "stream",
     "text": [
      "59% of cab users prefer paying by card\n"
     ]
    }
   ],
   "source": [
    "# Frequency distribution of users by mode of payment\n",
    "print('59% of cab users prefer paying by card')"
   ]
  },
  {
   "cell_type": "code",
   "execution_count": 27,
   "id": "revolutionary-desperate",
   "metadata": {},
   "outputs": [
    {
     "name": "stderr",
     "output_type": "stream",
     "text": [
      "C:\\Users\\user\\anaconda3\\lib\\site-packages\\seaborn\\_decorators.py:36: FutureWarning: Pass the following variables as keyword args: x, y. From version 0.12, the only valid positional argument will be `data`, and passing other arguments without an explicit keyword will result in an error or misinterpretation.\n",
      "  warnings.warn(\n"
     ]
    },
    {
     "data": {
      "image/png": "[encoded data removed]",
      "text/plain": [
       "<Figure size 432x288 with 1 Axes>"
      ]
     },
     "metadata": {},
     "output_type": "display_data"
    }
   ],
   "source": [
    "# Visual Distribution of Categorical data\n",
    "cab_count = cat_inner2['Company'].value_counts()\n",
    "sns.set(style=\"darkgrid\")\n",
    "sns.barplot(cab_count.index, cab_count.values, alpha=0.9)\n",
    "plt.title('Frequency Disrtibution of Cabs')\n",
    "plt.ylabel('Number of occurrences', fontsize=12)\n",
    "plt.xlabel('Cab', fontsize=12)\n",
    "plt.show()"
   ]
  },
  {
   "cell_type": "code",
   "execution_count": null,
   "id": "roman-running",
   "metadata": {},
   "outputs": [],
   "source": []
  },
  {
   "cell_type": "code",
   "execution_count": 88,
   "id": "incomplete-plant",
   "metadata": {},
   "outputs": [],
   "source": [
    "df4 = pd.read_csv(\"C:/Users/user/OneDrive/Desktop/Career/Data Glacier VI/VC-1/DataSets/Customer_ID.csv\")"
   ]
  },
  {
   "cell_type": "code",
   "execution_count": 89,
   "id": "endangered-romance",
   "metadata": {},
   "outputs": [
    {
     "data": {
      "text/html": [
       "<div>\n",
       "<style scoped>\n",
       "    .dataframe tbody tr th:only-of-type {\n",
       "        vertical-align: middle;\n",
       "    }\n",
       "\n",
       "    .dataframe tbody tr th {\n",
       "        vertical-align: top;\n",
       "    }\n",
       "\n",
       "    .dataframe thead th {\n",
       "        text-align: right;\n",
       "    }\n",
       "</style>\n",
       "<table border=\"1\" class=\"dataframe\">\n",
       "  <thead>\n",
       "    <tr style=\"text-align: right;\">\n",
       "      <th></th>\n",
       "      <th>Customer ID</th>\n",
       "      <th>Gender</th>\n",
       "      <th>Age</th>\n",
       "      <th>Income (USD/Month)</th>\n",
       "    </tr>\n",
       "  </thead>\n",
       "  <tbody>\n",
       "    <tr>\n",
       "      <th>0</th>\n",
       "      <td>29290</td>\n",
       "      <td>Male</td>\n",
       "      <td>28</td>\n",
       "      <td>10813</td>\n",
       "    </tr>\n",
       "    <tr>\n",
       "      <th>1</th>\n",
       "      <td>27703</td>\n",
       "      <td>Male</td>\n",
       "      <td>27</td>\n",
       "      <td>9237</td>\n",
       "    </tr>\n",
       "    <tr>\n",
       "      <th>2</th>\n",
       "      <td>28712</td>\n",
       "      <td>Male</td>\n",
       "      <td>53</td>\n",
       "      <td>11242</td>\n",
       "    </tr>\n",
       "    <tr>\n",
       "      <th>3</th>\n",
       "      <td>28020</td>\n",
       "      <td>Male</td>\n",
       "      <td>23</td>\n",
       "      <td>23327</td>\n",
       "    </tr>\n",
       "    <tr>\n",
       "      <th>4</th>\n",
       "      <td>27182</td>\n",
       "      <td>Male</td>\n",
       "      <td>33</td>\n",
       "      <td>8536</td>\n",
       "    </tr>\n",
       "  </tbody>\n",
       "</table>\n",
       "</div>"
      ],
      "text/plain": [
       "   Customer ID Gender  Age  Income (USD/Month)\n",
       "0        29290   Male   28               10813\n",
       "1        27703   Male   27                9237\n",
       "2        28712   Male   53               11242\n",
       "3        28020   Male   23               23327\n",
       "4        27182   Male   33                8536"
      ]
     },
     "execution_count": 89,
     "metadata": {},
     "output_type": "execute_result"
    }
   ],
   "source": [
    "df4.head()"
   ]
  },
  {
   "cell_type": "code",
   "execution_count": 90,
   "id": "flush-dodge",
   "metadata": {},
   "outputs": [],
   "source": [
    "inner3 = pd.merge(inner2, df4, on='Customer ID')"
   ]
  },
  {
   "cell_type": "code",
   "execution_count": 91,
   "id": "suitable-dealer",
   "metadata": {},
   "outputs": [
    {
     "data": {
      "text/html": [
       "<div>\n",
       "<style scoped>\n",
       "    .dataframe tbody tr th:only-of-type {\n",
       "        vertical-align: middle;\n",
       "    }\n",
       "\n",
       "    .dataframe tbody tr th {\n",
       "        vertical-align: top;\n",
       "    }\n",
       "\n",
       "    .dataframe thead th {\n",
       "        text-align: right;\n",
       "    }\n",
       "</style>\n",
       "<table border=\"1\" class=\"dataframe\">\n",
       "  <thead>\n",
       "    <tr style=\"text-align: right;\">\n",
       "      <th></th>\n",
       "      <th>Transaction ID</th>\n",
       "      <th>Customer ID</th>\n",
       "      <th>Payment_Mode</th>\n",
       "      <th>Date of Travel</th>\n",
       "      <th>Company</th>\n",
       "      <th>City</th>\n",
       "      <th>KM Travelled</th>\n",
       "      <th>Price Charged</th>\n",
       "      <th>Cost of Trip</th>\n",
       "      <th>Day</th>\n",
       "      <th>Month</th>\n",
       "      <th>Year</th>\n",
       "      <th>Date</th>\n",
       "      <th>Population</th>\n",
       "      <th>Users</th>\n",
       "      <th>Gender</th>\n",
       "      <th>Age</th>\n",
       "      <th>Income (USD/Month)</th>\n",
       "    </tr>\n",
       "  </thead>\n",
       "  <tbody>\n",
       "    <tr>\n",
       "      <th>0</th>\n",
       "      <td>10000011</td>\n",
       "      <td>29290</td>\n",
       "      <td>Card</td>\n",
       "      <td>2016-08-01</td>\n",
       "      <td>Pink Cab</td>\n",
       "      <td>ATLANTA GA</td>\n",
       "      <td>30.45</td>\n",
       "      <td>370.95</td>\n",
       "      <td>313.6350</td>\n",
       "      <td>1</td>\n",
       "      <td>8</td>\n",
       "      <td>2016</td>\n",
       "      <td>2016-08-01</td>\n",
       "      <td>814,885</td>\n",
       "      <td>24,701</td>\n",
       "      <td>Male</td>\n",
       "      <td>28</td>\n",
       "      <td>10813</td>\n",
       "    </tr>\n",
       "    <tr>\n",
       "      <th>1</th>\n",
       "      <td>10351127</td>\n",
       "      <td>29290</td>\n",
       "      <td>Cash</td>\n",
       "      <td>2018-07-21</td>\n",
       "      <td>Yellow Cab</td>\n",
       "      <td>ATLANTA GA</td>\n",
       "      <td>26.19</td>\n",
       "      <td>598.70</td>\n",
       "      <td>317.4228</td>\n",
       "      <td>21</td>\n",
       "      <td>7</td>\n",
       "      <td>2018</td>\n",
       "      <td>2018-07-21</td>\n",
       "      <td>814,885</td>\n",
       "      <td>24,701</td>\n",
       "      <td>Male</td>\n",
       "      <td>28</td>\n",
       "      <td>10813</td>\n",
       "    </tr>\n",
       "    <tr>\n",
       "      <th>2</th>\n",
       "      <td>10412921</td>\n",
       "      <td>29290</td>\n",
       "      <td>Card</td>\n",
       "      <td>2018-11-23</td>\n",
       "      <td>Yellow Cab</td>\n",
       "      <td>ATLANTA GA</td>\n",
       "      <td>42.55</td>\n",
       "      <td>792.05</td>\n",
       "      <td>597.4020</td>\n",
       "      <td>23</td>\n",
       "      <td>11</td>\n",
       "      <td>2018</td>\n",
       "      <td>2018-11-23</td>\n",
       "      <td>814,885</td>\n",
       "      <td>24,701</td>\n",
       "      <td>Male</td>\n",
       "      <td>28</td>\n",
       "      <td>10813</td>\n",
       "    </tr>\n",
       "    <tr>\n",
       "      <th>3</th>\n",
       "      <td>10000012</td>\n",
       "      <td>27703</td>\n",
       "      <td>Card</td>\n",
       "      <td>2016-06-01</td>\n",
       "      <td>Pink Cab</td>\n",
       "      <td>ATLANTA GA</td>\n",
       "      <td>28.62</td>\n",
       "      <td>358.52</td>\n",
       "      <td>334.8540</td>\n",
       "      <td>1</td>\n",
       "      <td>6</td>\n",
       "      <td>2016</td>\n",
       "      <td>2016-06-01</td>\n",
       "      <td>814,885</td>\n",
       "      <td>24,701</td>\n",
       "      <td>Male</td>\n",
       "      <td>27</td>\n",
       "      <td>9237</td>\n",
       "    </tr>\n",
       "    <tr>\n",
       "      <th>4</th>\n",
       "      <td>10320494</td>\n",
       "      <td>27703</td>\n",
       "      <td>Card</td>\n",
       "      <td>2018-04-21</td>\n",
       "      <td>Yellow Cab</td>\n",
       "      <td>ATLANTA GA</td>\n",
       "      <td>36.38</td>\n",
       "      <td>721.10</td>\n",
       "      <td>467.1192</td>\n",
       "      <td>21</td>\n",
       "      <td>4</td>\n",
       "      <td>2018</td>\n",
       "      <td>2018-04-21</td>\n",
       "      <td>814,885</td>\n",
       "      <td>24,701</td>\n",
       "      <td>Male</td>\n",
       "      <td>27</td>\n",
       "      <td>9237</td>\n",
       "    </tr>\n",
       "  </tbody>\n",
       "</table>\n",
       "</div>"
      ],
      "text/plain": [
       "   Transaction ID  Customer ID Payment_Mode Date of Travel     Company  \\\n",
       "0        10000011        29290         Card     2016-08-01    Pink Cab   \n",
       "1        10351127        29290         Cash     2018-07-21  Yellow Cab   \n",
       "2        10412921        29290         Card     2018-11-23  Yellow Cab   \n",
       "3        10000012        27703         Card     2016-06-01    Pink Cab   \n",
       "4        10320494        27703         Card     2018-04-21  Yellow Cab   \n",
       "\n",
       "         City  KM Travelled  Price Charged  Cost of Trip  Day  Month  Year  \\\n",
       "0  ATLANTA GA         30.45         370.95      313.6350    1      8  2016   \n",
       "1  ATLANTA GA         26.19         598.70      317.4228   21      7  2018   \n",
       "2  ATLANTA GA         42.55         792.05      597.4020   23     11  2018   \n",
       "3  ATLANTA GA         28.62         358.52      334.8540    1      6  2016   \n",
       "4  ATLANTA GA         36.38         721.10      467.1192   21      4  2018   \n",
       "\n",
       "         Date Population     Users Gender  Age  Income (USD/Month)  \n",
       "0  2016-08-01   814,885    24,701    Male   28               10813  \n",
       "1  2018-07-21   814,885    24,701    Male   28               10813  \n",
       "2  2018-11-23   814,885    24,701    Male   28               10813  \n",
       "3  2016-06-01   814,885    24,701    Male   27                9237  \n",
       "4  2018-04-21   814,885    24,701    Male   27                9237  "
      ]
     },
     "execution_count": 91,
     "metadata": {},
     "output_type": "execute_result"
    }
   ],
   "source": [
    "inner3.head()"
   ]
  },
  {
   "cell_type": "code",
   "execution_count": 39,
   "id": "adjustable-diabetes",
   "metadata": {},
   "outputs": [
    {
     "data": {
      "text/plain": [
       "Transaction ID        0\n",
       "Customer ID           0\n",
       "Payment_Mode          0\n",
       "Date of Travel        0\n",
       "Company               0\n",
       "City                  0\n",
       "KM Travelled          0\n",
       "Price Charged         0\n",
       "Cost of Trip          0\n",
       "Day                   0\n",
       "Month                 0\n",
       "Year                  0\n",
       "Date                  0\n",
       "Population            0\n",
       "Users                 0\n",
       "Gender                0\n",
       "Age                   0\n",
       "Income (USD/Month)    0\n",
       "dtype: int64"
      ]
     },
     "execution_count": 39,
     "metadata": {},
     "output_type": "execute_result"
    }
   ],
   "source": [
    "inner3.isnull().sum()"
   ]
  },
  {
   "cell_type": "code",
   "execution_count": 42,
   "id": "verbal-convention",
   "metadata": {},
   "outputs": [
    {
     "data": {
      "image/png": "[encoded data removed]",
      "text/plain": [
       "<Figure size 432x288 with 1 Axes>"
      ]
     },
     "metadata": {},
     "output_type": "display_data"
    }
   ],
   "source": [
    "city_count = cat_inner2['City'].value_counts()\n",
    "sns.set(style=\"darkgrid\")\n",
    "sns.barplot(city_count.index, city_count.values, alpha=0.9)\n",
    "plt.title('Frequency Disrtibution of Cities')\n",
    "plt.ylabel('Number of occurrences', fontsize=12)\n",
    "plt.xlabel('City', fontsize=12)\n",
    "plt.show()"
   ]
  },
  {
   "cell_type": "code",
   "execution_count": 93,
   "id": "gothic-credits",
   "metadata": {},
   "outputs": [],
   "source": [
    "import scipy\n",
    "import scipy.stats as stats\n",
    "from sklearn.linear_model import LinearRegression\n",
    "from sklearn.model_selection import train_test_split\n",
    "from sklearn.metrics import mean_absolute_error\n",
    "from sklearn.preprocessing import scale\n",
    "import statsmodels.api as sm\n",
    "from statsmodels.tools.eval_measures import mse, rmse\n",
    "pd.options.display.float_format = '{:.5f}'.format\n",
    "import warnings\n",
    "import math\n",
    "warnings.filterwarnings('ignore')"
   ]
  },
  {
   "cell_type": "code",
   "execution_count": 94,
   "id": "chubby-space",
   "metadata": {},
   "outputs": [
    {
     "data": {
      "text/plain": [
       "<AxesSubplot:>"
      ]
     },
     "execution_count": 94,
     "metadata": {},
     "output_type": "execute_result"
    },
    {
     "data": {
      "image/png": "[encoded data removed]",
      "text/plain": [
       "<Figure size 720x720 with 2 Axes>"
      ]
     },
     "metadata": {},
     "output_type": "display_data"
    }
   ],
   "source": [
    "inner3_kor = inner3.corr()\n",
    "plt.figure(figsize=(10, 10))\n",
    "sns.heatmap(inner3_kor, vmin=1, vmax=1, cmap=\"viridis\", annot=True, linewidth=0.1)"
   ]
  },
  {
   "cell_type": "code",
   "execution_count": null,
   "id": "quality-satisfaction",
   "metadata": {},
   "outputs": [],
   "source": [
    "sns.pairplot(inner3, hue='Company')"
   ]
  },
  {
   "cell_type": "code",
   "execution_count": 95,
   "id": "demographic-moses",
   "metadata": {},
   "outputs": [],
   "source": [
    "Y = inner3[\"Price Charged\"]\n",
    "X = inner3[[\"Cost of Trip\", \"KM Travelled\", \"Year\", \"Company\", \"Transaction ID\" ]]\n",
    "X = pd.get_dummies(data=X, drop_first=True)"
   ]
  },
  {
   "cell_type": "code",
   "execution_count": 96,
   "id": "charming-visit",
   "metadata": {},
   "outputs": [
    {
     "name": "stdout",
     "output_type": "stream",
     "text": [
      "Training Data Count: 215635\n",
      "Testing Data Count: 143757\n"
     ]
    }
   ],
   "source": [
    "X_train, X_test, y_train, y_test = train_test_split(X, Y, test_size=0.4, random_state=214)\n",
    "print('Training Data Count: {}'.format(X_train.shape[0]))\n",
    "print('Testing Data Count: {}'.format(X_test.shape[0]))"
   ]
  },
  {
   "cell_type": "code",
   "execution_count": 97,
   "id": "considerable-chile",
   "metadata": {},
   "outputs": [
    {
     "data": {
      "text/html": [
       "<table class=\"simpletable\">\n",
       "<caption>OLS Regression Results</caption>\n",
       "<tr>\n",
       "  <th>Dep. Variable:</th>      <td>Price Charged</td>  <th>  R-squared:         </th>  <td>   0.760</td>  \n",
       "</tr>\n",
       "<tr>\n",
       "  <th>Model:</th>                   <td>OLS</td>       <th>  Adj. R-squared:    </th>  <td>   0.760</td>  \n",
       "</tr>\n",
       "<tr>\n",
       "  <th>Method:</th>             <td>Least Squares</td>  <th>  F-statistic:       </th>  <td>1.364e+05</td> \n",
       "</tr>\n",
       "<tr>\n",
       "  <th>Date:</th>             <td>Mon, 08 Mar 2021</td> <th>  Prob (F-statistic):</th>   <td>  0.00</td>   \n",
       "</tr>\n",
       "<tr>\n",
       "  <th>Time:</th>                 <td>15:21:26</td>     <th>  Log-Likelihood:    </th> <td>-1.3630e+06</td>\n",
       "</tr>\n",
       "<tr>\n",
       "  <th>No. Observations:</th>      <td>215635</td>      <th>  AIC:               </th>  <td>2.726e+06</td> \n",
       "</tr>\n",
       "<tr>\n",
       "  <th>Df Residuals:</th>          <td>215629</td>      <th>  BIC:               </th>  <td>2.726e+06</td> \n",
       "</tr>\n",
       "<tr>\n",
       "  <th>Df Model:</th>              <td>     5</td>      <th>                     </th>      <td> </td>     \n",
       "</tr>\n",
       "<tr>\n",
       "  <th>Covariance Type:</th>      <td>nonrobust</td>    <th>                     </th>      <td> </td>     \n",
       "</tr>\n",
       "</table>\n",
       "<table class=\"simpletable\">\n",
       "<tr>\n",
       "           <td></td>             <th>coef</th>     <th>std err</th>      <th>t</th>      <th>P>|t|</th>  <th>[0.025</th>    <th>0.975]</th>  \n",
       "</tr>\n",
       "<tr>\n",
       "  <th>const</th>              <td> -6.21e+04</td> <td> 2104.762</td> <td>  -29.503</td> <td> 0.000</td> <td>-6.62e+04</td> <td> -5.8e+04</td>\n",
       "</tr>\n",
       "<tr>\n",
       "  <th>Cost of Trip</th>       <td>    0.8511</td> <td>    0.014</td> <td>   62.537</td> <td> 0.000</td> <td>    0.824</td> <td>    0.878</td>\n",
       "</tr>\n",
       "<tr>\n",
       "  <th>KM Travelled</th>       <td>    7.9409</td> <td>    0.174</td> <td>   45.592</td> <td> 0.000</td> <td>    7.599</td> <td>    8.282</td>\n",
       "</tr>\n",
       "<tr>\n",
       "  <th>Year</th>               <td>   32.2473</td> <td>    1.076</td> <td>   29.974</td> <td> 0.000</td> <td>   30.139</td> <td>   34.356</td>\n",
       "</tr>\n",
       "<tr>\n",
       "  <th>Transaction ID</th>     <td>   -0.0003</td> <td> 6.79e-06</td> <td>  -43.606</td> <td> 0.000</td> <td>   -0.000</td> <td>   -0.000</td>\n",
       "</tr>\n",
       "<tr>\n",
       "  <th>Company_Yellow Cab</th> <td>  104.1616</td> <td>    0.960</td> <td>  108.464</td> <td> 0.000</td> <td>  102.279</td> <td>  106.044</td>\n",
       "</tr>\n",
       "</table>\n",
       "<table class=\"simpletable\">\n",
       "<tr>\n",
       "  <th>Omnibus:</th>       <td>53529.599</td> <th>  Durbin-Watson:     </th>  <td>   2.002</td> \n",
       "</tr>\n",
       "<tr>\n",
       "  <th>Prob(Omnibus):</th>  <td> 0.000</td>   <th>  Jarque-Bera (JB):  </th> <td>173091.627</td>\n",
       "</tr>\n",
       "<tr>\n",
       "  <th>Skew:</th>           <td> 1.260</td>   <th>  Prob(JB):          </th>  <td>    0.00</td> \n",
       "</tr>\n",
       "<tr>\n",
       "  <th>Kurtosis:</th>       <td> 6.593</td>   <th>  Cond. No.          </th>  <td>7.43e+10</td> \n",
       "</tr>\n",
       "</table><br/><br/>Notes:<br/>[1] Standard Errors assume that the covariance matrix of the errors is correctly specified.<br/>[2] The condition number is large, 7.43e+10. This might indicate that there are<br/>strong multicollinearity or other numerical problems."
      ],
      "text/plain": [
       "<class 'statsmodels.iolib.summary.Summary'>\n",
       "\"\"\"\n",
       "                            OLS Regression Results                            \n",
       "==============================================================================\n",
       "Dep. Variable:          Price Charged   R-squared:                       0.760\n",
       "Model:                            OLS   Adj. R-squared:                  0.760\n",
       "Method:                 Least Squares   F-statistic:                 1.364e+05\n",
       "Date:                Mon, 08 Mar 2021   Prob (F-statistic):               0.00\n",
       "Time:                        15:21:26   Log-Likelihood:            -1.3630e+06\n",
       "No. Observations:              215635   AIC:                         2.726e+06\n",
       "Df Residuals:                  215629   BIC:                         2.726e+06\n",
       "Df Model:                           5                                         \n",
       "Covariance Type:            nonrobust                                         \n",
       "======================================================================================\n",
       "                         coef    std err          t      P>|t|      [0.025      0.975]\n",
       "--------------------------------------------------------------------------------------\n",
       "const               -6.21e+04   2104.762    -29.503      0.000   -6.62e+04    -5.8e+04\n",
       "Cost of Trip           0.8511      0.014     62.537      0.000       0.824       0.878\n",
       "KM Travelled           7.9409      0.174     45.592      0.000       7.599       8.282\n",
       "Year                  32.2473      1.076     29.974      0.000      30.139      34.356\n",
       "Transaction ID        -0.0003   6.79e-06    -43.606      0.000      -0.000      -0.000\n",
       "Company_Yellow Cab   104.1616      0.960    108.464      0.000     102.279     106.044\n",
       "==============================================================================\n",
       "Omnibus:                    53529.599   Durbin-Watson:                   2.002\n",
       "Prob(Omnibus):                  0.000   Jarque-Bera (JB):           173091.627\n",
       "Skew:                           1.260   Prob(JB):                         0.00\n",
       "Kurtosis:                       6.593   Cond. No.                     7.43e+10\n",
       "==============================================================================\n",
       "\n",
       "Notes:\n",
       "[1] Standard Errors assume that the covariance matrix of the errors is correctly specified.\n",
       "[2] The condition number is large, 7.43e+10. This might indicate that there are\n",
       "strong multicollinearity or other numerical problems.\n",
       "\"\"\""
      ]
     },
     "execution_count": 97,
     "metadata": {},
     "output_type": "execute_result"
    }
   ],
   "source": [
    "X_train = sm.add_constant(X_train)\n",
    "results = sm.OLS(y_train, X_train).fit()\n",
    "results.summary()"
   ]
  },
  {
   "cell_type": "code",
   "execution_count": 98,
   "id": "bacterial-compensation",
   "metadata": {},
   "outputs": [
    {
     "name": "stdout",
     "output_type": "stream",
     "text": [
      "76% of the variance in the model can be explained. From the pvalue, all independent variables are significant.\n"
     ]
    }
   ],
   "source": [
    "print('76% of the variance in the model can be explained. From the pvalue, all independent variables are significant.')"
   ]
  },
  {
   "cell_type": "code",
   "execution_count": 99,
   "id": "incident-duration",
   "metadata": {},
   "outputs": [
    {
     "name": "stdout",
     "output_type": "stream",
     "text": [
      "Price Charged(Yellow Cab) = -62100 + 0.8511(Cost of Trip) + 7.9409(KM Travelled) + 32.247(Year) -0.0003(Transaction ID)\n"
     ]
    }
   ],
   "source": [
    "print('Price Charged(Yellow Cab) = -62100 + 0.8511(Cost of Trip) + 7.9409(KM Travelled) + 32.247(Year) -0.0003(Transaction ID)')"
   ]
  },
  {
   "cell_type": "code",
   "execution_count": null,
   "id": "cognitive-lebanon",
   "metadata": {},
   "outputs": [],
   "source": []
  },
  {
   "cell_type": "code",
   "execution_count": 100,
   "id": "growing-liquid",
   "metadata": {},
   "outputs": [],
   "source": [
    "Y = inner3[\"Price Charged\"]\n",
    "X = inner3[[\"Cost of Trip\", \"KM Travelled\", \"Year\", \"Company\", \"Transaction ID\" ]]\n",
    "X = pd.get_dummies(data=X, drop_first=False)"
   ]
  },
  {
   "cell_type": "code",
   "execution_count": null,
   "id": "altered-tattoo",
   "metadata": {},
   "outputs": [],
   "source": []
  },
  {
   "cell_type": "code",
   "execution_count": 101,
   "id": "synthetic-subject",
   "metadata": {},
   "outputs": [
    {
     "name": "stdout",
     "output_type": "stream",
     "text": [
      "Training Data Count: 215635\n",
      "Testing Data Count: 143757\n"
     ]
    }
   ],
   "source": [
    "X_train, X_test, y_train, y_test = train_test_split(X, Y, test_size=0.4, random_state=214)\n",
    "print('Training Data Count: {}'.format(X_train.shape[0]))\n",
    "print('Testing Data Count: {}'.format(X_test.shape[0]))"
   ]
  },
  {
   "cell_type": "code",
   "execution_count": null,
   "id": "cutting-lancaster",
   "metadata": {},
   "outputs": [],
   "source": []
  },
  {
   "cell_type": "code",
   "execution_count": 102,
   "id": "prime-caution",
   "metadata": {},
   "outputs": [
    {
     "data": {
      "text/html": [
       "<table class=\"simpletable\">\n",
       "<caption>OLS Regression Results</caption>\n",
       "<tr>\n",
       "  <th>Dep. Variable:</th>      <td>Price Charged</td>  <th>  R-squared:         </th>  <td>   0.760</td>  \n",
       "</tr>\n",
       "<tr>\n",
       "  <th>Model:</th>                   <td>OLS</td>       <th>  Adj. R-squared:    </th>  <td>   0.760</td>  \n",
       "</tr>\n",
       "<tr>\n",
       "  <th>Method:</th>             <td>Least Squares</td>  <th>  F-statistic:       </th>  <td>1.364e+05</td> \n",
       "</tr>\n",
       "<tr>\n",
       "  <th>Date:</th>             <td>Mon, 08 Mar 2021</td> <th>  Prob (F-statistic):</th>   <td>  0.00</td>   \n",
       "</tr>\n",
       "<tr>\n",
       "  <th>Time:</th>                 <td>15:44:00</td>     <th>  Log-Likelihood:    </th> <td>-1.3630e+06</td>\n",
       "</tr>\n",
       "<tr>\n",
       "  <th>No. Observations:</th>      <td>215635</td>      <th>  AIC:               </th>  <td>2.726e+06</td> \n",
       "</tr>\n",
       "<tr>\n",
       "  <th>Df Residuals:</th>          <td>215629</td>      <th>  BIC:               </th>  <td>2.726e+06</td> \n",
       "</tr>\n",
       "<tr>\n",
       "  <th>Df Model:</th>              <td>     5</td>      <th>                     </th>      <td> </td>     \n",
       "</tr>\n",
       "<tr>\n",
       "  <th>Covariance Type:</th>      <td>nonrobust</td>    <th>                     </th>      <td> </td>     \n",
       "</tr>\n",
       "</table>\n",
       "<table class=\"simpletable\">\n",
       "<tr>\n",
       "           <td></td>             <th>coef</th>     <th>std err</th>      <th>t</th>      <th>P>|t|</th>  <th>[0.025</th>    <th>0.975]</th>  \n",
       "</tr>\n",
       "<tr>\n",
       "  <th>const</th>              <td>-4.136e+04</td> <td> 1403.183</td> <td>  -29.478</td> <td> 0.000</td> <td>-4.41e+04</td> <td>-3.86e+04</td>\n",
       "</tr>\n",
       "<tr>\n",
       "  <th>Cost of Trip</th>       <td>    0.8511</td> <td>    0.014</td> <td>   62.537</td> <td> 0.000</td> <td>    0.824</td> <td>    0.878</td>\n",
       "</tr>\n",
       "<tr>\n",
       "  <th>KM Travelled</th>       <td>    7.9409</td> <td>    0.174</td> <td>   45.592</td> <td> 0.000</td> <td>    7.599</td> <td>    8.282</td>\n",
       "</tr>\n",
       "<tr>\n",
       "  <th>Year</th>               <td>   32.2473</td> <td>    1.076</td> <td>   29.974</td> <td> 0.000</td> <td>   30.139</td> <td>   34.356</td>\n",
       "</tr>\n",
       "<tr>\n",
       "  <th>Transaction ID</th>     <td>   -0.0003</td> <td> 6.79e-06</td> <td>  -43.606</td> <td> 0.000</td> <td>   -0.000</td> <td>   -0.000</td>\n",
       "</tr>\n",
       "<tr>\n",
       "  <th>Company_Pink Cab</th>   <td>-2.073e+04</td> <td>  701.580</td> <td>  -29.553</td> <td> 0.000</td> <td>-2.21e+04</td> <td>-1.94e+04</td>\n",
       "</tr>\n",
       "<tr>\n",
       "  <th>Company_Yellow Cab</th> <td>-2.063e+04</td> <td>  701.603</td> <td>  -29.404</td> <td> 0.000</td> <td> -2.2e+04</td> <td>-1.93e+04</td>\n",
       "</tr>\n",
       "</table>\n",
       "<table class=\"simpletable\">\n",
       "<tr>\n",
       "  <th>Omnibus:</th>       <td>53529.599</td> <th>  Durbin-Watson:     </th>  <td>   2.002</td> \n",
       "</tr>\n",
       "<tr>\n",
       "  <th>Prob(Omnibus):</th>  <td> 0.000</td>   <th>  Jarque-Bera (JB):  </th> <td>173091.627</td>\n",
       "</tr>\n",
       "<tr>\n",
       "  <th>Skew:</th>           <td> 1.260</td>   <th>  Prob(JB):          </th>  <td>    0.00</td> \n",
       "</tr>\n",
       "<tr>\n",
       "  <th>Kurtosis:</th>       <td> 6.593</td>   <th>  Cond. No.          </th>  <td>4.91e+22</td> \n",
       "</tr>\n",
       "</table><br/><br/>Notes:<br/>[1] Standard Errors assume that the covariance matrix of the errors is correctly specified.<br/>[2] The smallest eigenvalue is 9.35e-27. This might indicate that there are<br/>strong multicollinearity problems or that the design matrix is singular."
      ],
      "text/plain": [
       "<class 'statsmodels.iolib.summary.Summary'>\n",
       "\"\"\"\n",
       "                            OLS Regression Results                            \n",
       "==============================================================================\n",
       "Dep. Variable:          Price Charged   R-squared:                       0.760\n",
       "Model:                            OLS   Adj. R-squared:                  0.760\n",
       "Method:                 Least Squares   F-statistic:                 1.364e+05\n",
       "Date:                Mon, 08 Mar 2021   Prob (F-statistic):               0.00\n",
       "Time:                        15:44:00   Log-Likelihood:            -1.3630e+06\n",
       "No. Observations:              215635   AIC:                         2.726e+06\n",
       "Df Residuals:                  215629   BIC:                         2.726e+06\n",
       "Df Model:                           5                                         \n",
       "Covariance Type:            nonrobust                                         \n",
       "======================================================================================\n",
       "                         coef    std err          t      P>|t|      [0.025      0.975]\n",
       "--------------------------------------------------------------------------------------\n",
       "const              -4.136e+04   1403.183    -29.478      0.000   -4.41e+04   -3.86e+04\n",
       "Cost of Trip           0.8511      0.014     62.537      0.000       0.824       0.878\n",
       "KM Travelled           7.9409      0.174     45.592      0.000       7.599       8.282\n",
       "Year                  32.2473      1.076     29.974      0.000      30.139      34.356\n",
       "Transaction ID        -0.0003   6.79e-06    -43.606      0.000      -0.000      -0.000\n",
       "Company_Pink Cab   -2.073e+04    701.580    -29.553      0.000   -2.21e+04   -1.94e+04\n",
       "Company_Yellow Cab -2.063e+04    701.603    -29.404      0.000    -2.2e+04   -1.93e+04\n",
       "==============================================================================\n",
       "Omnibus:                    53529.599   Durbin-Watson:                   2.002\n",
       "Prob(Omnibus):                  0.000   Jarque-Bera (JB):           173091.627\n",
       "Skew:                           1.260   Prob(JB):                         0.00\n",
       "Kurtosis:                       6.593   Cond. No.                     4.91e+22\n",
       "==============================================================================\n",
       "\n",
       "Notes:\n",
       "[1] Standard Errors assume that the covariance matrix of the errors is correctly specified.\n",
       "[2] The smallest eigenvalue is 9.35e-27. This might indicate that there are\n",
       "strong multicollinearity problems or that the design matrix is singular.\n",
       "\"\"\""
      ]
     },
     "execution_count": 102,
     "metadata": {},
     "output_type": "execute_result"
    }
   ],
   "source": [
    "X_train = sm.add_constant(X_train)\n",
    "results = sm.OLS(y_train, X_train).fit()\n",
    "results.summary()"
   ]
  },
  {
   "cell_type": "code",
   "execution_count": 103,
   "id": "fundamental-timothy",
   "metadata": {},
   "outputs": [
    {
     "data": {
      "text/plain": [
       "(359392, 18)"
      ]
     },
     "execution_count": 103,
     "metadata": {},
     "output_type": "execute_result"
    }
   ],
   "source": [
    "inner3.shape"
   ]
  },
  {
   "cell_type": "code",
   "execution_count": null,
   "id": "radical-world",
   "metadata": {},
   "outputs": [],
   "source": []
  }
 ],
 "metadata": {
  "kernelspec": {
   "display_name": "Python 3",
   "language": "python",
   "name": "python3"
  },
  "language_info": {
   "codemirror_mode": {
    "name": "ipython",
    "version": 3
   },
   "file_extension": ".py",
   "mimetype": "text/x-python",
   "name": "python",
   "nbconvert_exporter": "python",
   "pygments_lexer": "ipython3",
   "version": "3.8.5"
  }
 },
 "nbformat": 4,
 "nbformat_minor": 5
}
